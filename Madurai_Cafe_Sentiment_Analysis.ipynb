{
 "cells": [
  {
   "cell_type": "markdown",
   "id": "e8f8fa17",
   "metadata": {},
   "source": [
    "# Analyzing Google reviews for Madurai Cafe"
   ]
  },
  {
   "cell_type": "markdown",
   "id": "f269f04a",
   "metadata": {},
   "source": [
    "### In this notebook, we perform sentiment analysis on the Google reviews for [Madurai Cafe](https://www.google.com/search?cs=1&output=search&q=Madurai+Cafe&ludocid=8523820750040648972&gsas=1&client=ms-android-oneplus-rvo3&lsig=AB86z5Vli_fodO2CKkbOXhNkj__F&kgs=91bdaa24ce60c431&shndl=-1&source=sh/x/kp/local/2) to identify areas that the restaurant performs really well in, and areas that could be improved, as seen through the eyes of the customer."
   ]
  },
  {
   "cell_type": "code",
   "execution_count": 1,
   "id": "5b4cdaa3",
   "metadata": {},
   "outputs": [],
   "source": [
    "import pandas as pd\n",
    "import warnings\n",
    "warnings.filterwarnings(\"ignore\")"
   ]
  },
  {
   "cell_type": "code",
   "execution_count": 2,
   "id": "5bb00c46",
   "metadata": {},
   "outputs": [],
   "source": [
    "df1 = pd.read_csv('MaduraiCafe_Reviews.csv')"
   ]
  },
  {
   "cell_type": "code",
   "execution_count": 3,
   "id": "5b844b87",
   "metadata": {},
   "outputs": [
    {
     "data": {
      "text/html": [
       "<div>\n",
       "<style scoped>\n",
       "    .dataframe tbody tr th:only-of-type {\n",
       "        vertical-align: middle;\n",
       "    }\n",
       "\n",
       "    .dataframe tbody tr th {\n",
       "        vertical-align: top;\n",
       "    }\n",
       "\n",
       "    .dataframe thead th {\n",
       "        text-align: right;\n",
       "    }\n",
       "</style>\n",
       "<table border=\"1\" class=\"dataframe\">\n",
       "  <thead>\n",
       "    <tr style=\"text-align: right;\">\n",
       "      <th></th>\n",
       "      <th>isLocalGuide</th>\n",
       "      <th>name</th>\n",
       "      <th>ReviewDate</th>\n",
       "      <th>MealType</th>\n",
       "      <th>ServiceType</th>\n",
       "      <th>AtmosphereRating</th>\n",
       "      <th>FoodRating</th>\n",
       "      <th>ServiceRating</th>\n",
       "      <th>Rating</th>\n",
       "      <th>review</th>\n",
       "    </tr>\n",
       "  </thead>\n",
       "  <tbody>\n",
       "    <tr>\n",
       "      <th>0</th>\n",
       "      <td>True</td>\n",
       "      <td>Divyan Paul</td>\n",
       "      <td>07-05-2023</td>\n",
       "      <td>Dinner</td>\n",
       "      <td>Dine in</td>\n",
       "      <td>NaN</td>\n",
       "      <td>NaN</td>\n",
       "      <td>NaN</td>\n",
       "      <td>5</td>\n",
       "      <td>NaN</td>\n",
       "    </tr>\n",
       "    <tr>\n",
       "      <th>1</th>\n",
       "      <td>True</td>\n",
       "      <td>Pakala Purushotham</td>\n",
       "      <td>06-05-2023</td>\n",
       "      <td>Dinner</td>\n",
       "      <td>Dine in</td>\n",
       "      <td>5.0</td>\n",
       "      <td>5.0</td>\n",
       "      <td>5.0</td>\n",
       "      <td>5</td>\n",
       "      <td>NaN</td>\n",
       "    </tr>\n",
       "    <tr>\n",
       "      <th>2</th>\n",
       "      <td>True</td>\n",
       "      <td>Dhanush Pai</td>\n",
       "      <td>06-05-2023</td>\n",
       "      <td>Dinner</td>\n",
       "      <td>Dine in</td>\n",
       "      <td>4.0</td>\n",
       "      <td>5.0</td>\n",
       "      <td>5.0</td>\n",
       "      <td>5</td>\n",
       "      <td>Went with friends and had many items. It was y...</td>\n",
       "    </tr>\n",
       "    <tr>\n",
       "      <th>3</th>\n",
       "      <td>True</td>\n",
       "      <td>Jibin Mathai</td>\n",
       "      <td>30-04-2023</td>\n",
       "      <td>Dinner</td>\n",
       "      <td>Take out</td>\n",
       "      <td>3.0</td>\n",
       "      <td>4.0</td>\n",
       "      <td>5.0</td>\n",
       "      <td>4</td>\n",
       "      <td>NaN</td>\n",
       "    </tr>\n",
       "    <tr>\n",
       "      <th>4</th>\n",
       "      <td>True</td>\n",
       "      <td>hari prasad</td>\n",
       "      <td>30-04-2023</td>\n",
       "      <td>Lunch</td>\n",
       "      <td>Dine in</td>\n",
       "      <td>4.0</td>\n",
       "      <td>4.0</td>\n",
       "      <td>5.0</td>\n",
       "      <td>5</td>\n",
       "      <td>The food was good, the atmosphere like same as...</td>\n",
       "    </tr>\n",
       "  </tbody>\n",
       "</table>\n",
       "</div>"
      ],
      "text/plain": [
       "   isLocalGuide                name  ReviewDate MealType ServiceType  \\\n",
       "0          True         Divyan Paul  07-05-2023   Dinner     Dine in   \n",
       "1          True  Pakala Purushotham  06-05-2023   Dinner     Dine in   \n",
       "2          True         Dhanush Pai  06-05-2023   Dinner     Dine in   \n",
       "3          True        Jibin Mathai  30-04-2023   Dinner    Take out   \n",
       "4          True         hari prasad  30-04-2023    Lunch     Dine in   \n",
       "\n",
       "   AtmosphereRating  FoodRating  ServiceRating  Rating  \\\n",
       "0               NaN         NaN            NaN       5   \n",
       "1               5.0         5.0            5.0       5   \n",
       "2               4.0         5.0            5.0       5   \n",
       "3               3.0         4.0            5.0       4   \n",
       "4               4.0         4.0            5.0       5   \n",
       "\n",
       "                                              review  \n",
       "0                                                NaN  \n",
       "1                                                NaN  \n",
       "2  Went with friends and had many items. It was y...  \n",
       "3                                                NaN  \n",
       "4  The food was good, the atmosphere like same as...  "
      ]
     },
     "execution_count": 3,
     "metadata": {},
     "output_type": "execute_result"
    }
   ],
   "source": [
    "df1.head()"
   ]
  },
  {
   "cell_type": "code",
   "execution_count": 4,
   "id": "66d41c06",
   "metadata": {},
   "outputs": [
    {
     "data": {
      "text/html": [
       "<div>\n",
       "<style scoped>\n",
       "    .dataframe tbody tr th:only-of-type {\n",
       "        vertical-align: middle;\n",
       "    }\n",
       "\n",
       "    .dataframe tbody tr th {\n",
       "        vertical-align: top;\n",
       "    }\n",
       "\n",
       "    .dataframe thead th {\n",
       "        text-align: right;\n",
       "    }\n",
       "</style>\n",
       "<table border=\"1\" class=\"dataframe\">\n",
       "  <thead>\n",
       "    <tr style=\"text-align: right;\">\n",
       "      <th></th>\n",
       "      <th>AtmosphereRating</th>\n",
       "      <th>FoodRating</th>\n",
       "      <th>ServiceRating</th>\n",
       "      <th>Rating</th>\n",
       "    </tr>\n",
       "  </thead>\n",
       "  <tbody>\n",
       "    <tr>\n",
       "      <th>count</th>\n",
       "      <td>54.000000</td>\n",
       "      <td>59.000000</td>\n",
       "      <td>57.000000</td>\n",
       "      <td>1368.000000</td>\n",
       "    </tr>\n",
       "    <tr>\n",
       "      <th>mean</th>\n",
       "      <td>3.703704</td>\n",
       "      <td>4.288136</td>\n",
       "      <td>4.298246</td>\n",
       "      <td>4.434211</td>\n",
       "    </tr>\n",
       "    <tr>\n",
       "      <th>std</th>\n",
       "      <td>1.175691</td>\n",
       "      <td>1.114959</td>\n",
       "      <td>1.117473</td>\n",
       "      <td>0.917233</td>\n",
       "    </tr>\n",
       "    <tr>\n",
       "      <th>min</th>\n",
       "      <td>1.000000</td>\n",
       "      <td>1.000000</td>\n",
       "      <td>1.000000</td>\n",
       "      <td>1.000000</td>\n",
       "    </tr>\n",
       "    <tr>\n",
       "      <th>25%</th>\n",
       "      <td>3.000000</td>\n",
       "      <td>4.000000</td>\n",
       "      <td>4.000000</td>\n",
       "      <td>4.000000</td>\n",
       "    </tr>\n",
       "    <tr>\n",
       "      <th>50%</th>\n",
       "      <td>4.000000</td>\n",
       "      <td>5.000000</td>\n",
       "      <td>5.000000</td>\n",
       "      <td>5.000000</td>\n",
       "    </tr>\n",
       "    <tr>\n",
       "      <th>75%</th>\n",
       "      <td>5.000000</td>\n",
       "      <td>5.000000</td>\n",
       "      <td>5.000000</td>\n",
       "      <td>5.000000</td>\n",
       "    </tr>\n",
       "    <tr>\n",
       "      <th>max</th>\n",
       "      <td>5.000000</td>\n",
       "      <td>5.000000</td>\n",
       "      <td>5.000000</td>\n",
       "      <td>5.000000</td>\n",
       "    </tr>\n",
       "  </tbody>\n",
       "</table>\n",
       "</div>"
      ],
      "text/plain": [
       "       AtmosphereRating  FoodRating  ServiceRating       Rating\n",
       "count         54.000000   59.000000      57.000000  1368.000000\n",
       "mean           3.703704    4.288136       4.298246     4.434211\n",
       "std            1.175691    1.114959       1.117473     0.917233\n",
       "min            1.000000    1.000000       1.000000     1.000000\n",
       "25%            3.000000    4.000000       4.000000     4.000000\n",
       "50%            4.000000    5.000000       5.000000     5.000000\n",
       "75%            5.000000    5.000000       5.000000     5.000000\n",
       "max            5.000000    5.000000       5.000000     5.000000"
      ]
     },
     "execution_count": 4,
     "metadata": {},
     "output_type": "execute_result"
    }
   ],
   "source": [
    "df1.describe()"
   ]
  },
  {
   "cell_type": "markdown",
   "id": "6ae476fd",
   "metadata": {},
   "source": [
    "![Ratings_small](Ratings_small.png)"
   ]
  },
  {
   "cell_type": "markdown",
   "id": "9da14ed3",
   "metadata": {},
   "source": [
    "#### The above image shows the overall average rating, and the average rating for food, service, and atmosphere."
   ]
  },
  {
   "cell_type": "markdown",
   "id": "f95b7b10",
   "metadata": {},
   "source": [
    "### Word Cloud:"
   ]
  },
  {
   "cell_type": "markdown",
   "id": "20550178",
   "metadata": {},
   "source": [
    "![wordcloud](wordcloud.png)"
   ]
  },
  {
   "cell_type": "markdown",
   "id": "ea9f8630",
   "metadata": {},
   "source": [
    "## Natural Language Processing with nltk"
   ]
  },
  {
   "cell_type": "code",
   "execution_count": 5,
   "id": "5645f848",
   "metadata": {},
   "outputs": [
    {
     "data": {
      "text/html": [
       "<div>\n",
       "<style scoped>\n",
       "    .dataframe tbody tr th:only-of-type {\n",
       "        vertical-align: middle;\n",
       "    }\n",
       "\n",
       "    .dataframe tbody tr th {\n",
       "        vertical-align: top;\n",
       "    }\n",
       "\n",
       "    .dataframe thead th {\n",
       "        text-align: right;\n",
       "    }\n",
       "</style>\n",
       "<table border=\"1\" class=\"dataframe\">\n",
       "  <thead>\n",
       "    <tr style=\"text-align: right;\">\n",
       "      <th></th>\n",
       "      <th>review</th>\n",
       "    </tr>\n",
       "  </thead>\n",
       "  <tbody>\n",
       "    <tr>\n",
       "      <th>0</th>\n",
       "      <td>Went with friends and had many items. It was y...</td>\n",
       "    </tr>\n",
       "    <tr>\n",
       "      <th>1</th>\n",
       "      <td>The food was good, the atmosphere like same as...</td>\n",
       "    </tr>\n",
       "    <tr>\n",
       "      <th>2</th>\n",
       "      <td>Can have authentic South Indian food in a good...</td>\n",
       "    </tr>\n",
       "    <tr>\n",
       "      <th>3</th>\n",
       "      <td>Super tasty parotas ever in hyderabad my tummy...</td>\n",
       "    </tr>\n",
       "    <tr>\n",
       "      <th>4</th>\n",
       "      <td>Namba style hotel.</td>\n",
       "    </tr>\n",
       "    <tr>\n",
       "      <th>...</th>\n",
       "      <td>...</td>\n",
       "    </tr>\n",
       "    <tr>\n",
       "      <th>470</th>\n",
       "      <td>Hygienic very tasty</td>\n",
       "    </tr>\n",
       "    <tr>\n",
       "      <th>471</th>\n",
       "      <td>Tastey and hygiene hotel..  Very humble servic...</td>\n",
       "    </tr>\n",
       "    <tr>\n",
       "      <th>472</th>\n",
       "      <td>Very good tamilnadu​ food with low price.. Goo...</td>\n",
       "    </tr>\n",
       "    <tr>\n",
       "      <th>473</th>\n",
       "      <td>Great tamil food</td>\n",
       "    </tr>\n",
       "    <tr>\n",
       "      <th>474</th>\n",
       "      <td>Very good food option in anjaiah nagar area at...</td>\n",
       "    </tr>\n",
       "  </tbody>\n",
       "</table>\n",
       "<p>475 rows × 1 columns</p>\n",
       "</div>"
      ],
      "text/plain": [
       "                                                review\n",
       "0    Went with friends and had many items. It was y...\n",
       "1    The food was good, the atmosphere like same as...\n",
       "2    Can have authentic South Indian food in a good...\n",
       "3    Super tasty parotas ever in hyderabad my tummy...\n",
       "4                                   Namba style hotel.\n",
       "..                                                 ...\n",
       "470                                Hygienic very tasty\n",
       "471  Tastey and hygiene hotel..  Very humble servic...\n",
       "472  Very good tamilnadu​ food with low price.. Goo...\n",
       "473                                   Great tamil food\n",
       "474  Very good food option in anjaiah nagar area at...\n",
       "\n",
       "[475 rows x 1 columns]"
      ]
     },
     "execution_count": 5,
     "metadata": {},
     "output_type": "execute_result"
    }
   ],
   "source": [
    "df1 = df1[['review']]\n",
    "\n",
    "# Removing columns without text\n",
    "df1.dropna(inplace=True)\n",
    "df1.reset_index(inplace=True, drop=True)\n",
    "df1"
   ]
  },
  {
   "cell_type": "markdown",
   "id": "a02d209f",
   "metadata": {},
   "source": [
    "### Data Cleaning"
   ]
  },
  {
   "cell_type": "markdown",
   "id": "0731a784",
   "metadata": {},
   "source": [
    "#### Tokenization:"
   ]
  },
  {
   "cell_type": "markdown",
   "id": "1ab77eef",
   "metadata": {},
   "source": [
    "We split each review into individual words or phrases, so that we may be able to analyze the text at a more granular level."
   ]
  },
  {
   "cell_type": "code",
   "execution_count": 6,
   "id": "219807e3",
   "metadata": {},
   "outputs": [
    {
     "name": "stderr",
     "output_type": "stream",
     "text": [
      "[nltk_data] Downloading package punkt to\n",
      "[nltk_data]     C:\\Users\\ssiri\\AppData\\Roaming\\nltk_data...\n",
      "[nltk_data]   Package punkt is already up-to-date!\n"
     ]
    },
    {
     "data": {
      "text/html": [
       "<div>\n",
       "<style scoped>\n",
       "    .dataframe tbody tr th:only-of-type {\n",
       "        vertical-align: middle;\n",
       "    }\n",
       "\n",
       "    .dataframe tbody tr th {\n",
       "        vertical-align: top;\n",
       "    }\n",
       "\n",
       "    .dataframe thead th {\n",
       "        text-align: right;\n",
       "    }\n",
       "</style>\n",
       "<table border=\"1\" class=\"dataframe\">\n",
       "  <thead>\n",
       "    <tr style=\"text-align: right;\">\n",
       "      <th></th>\n",
       "      <th>review</th>\n",
       "      <th>tokenized_review</th>\n",
       "    </tr>\n",
       "  </thead>\n",
       "  <tbody>\n",
       "    <tr>\n",
       "      <th>0</th>\n",
       "      <td>Went with friends and had many items. It was y...</td>\n",
       "      <td>[Went, with, friends, and, had, many, items, ....</td>\n",
       "    </tr>\n",
       "    <tr>\n",
       "      <th>1</th>\n",
       "      <td>The food was good, the atmosphere like same as...</td>\n",
       "      <td>[The, food, was, good, ,, the, atmosphere, lik...</td>\n",
       "    </tr>\n",
       "    <tr>\n",
       "      <th>2</th>\n",
       "      <td>Can have authentic South Indian food in a good...</td>\n",
       "      <td>[Can, have, authentic, South, Indian, food, in...</td>\n",
       "    </tr>\n",
       "    <tr>\n",
       "      <th>3</th>\n",
       "      <td>Super tasty parotas ever in hyderabad my tummy...</td>\n",
       "      <td>[Super, tasty, parotas, ever, in, hyderabad, m...</td>\n",
       "    </tr>\n",
       "    <tr>\n",
       "      <th>4</th>\n",
       "      <td>Namba style hotel.</td>\n",
       "      <td>[Namba, style, hotel, .]</td>\n",
       "    </tr>\n",
       "  </tbody>\n",
       "</table>\n",
       "</div>"
      ],
      "text/plain": [
       "                                              review  \\\n",
       "0  Went with friends and had many items. It was y...   \n",
       "1  The food was good, the atmosphere like same as...   \n",
       "2  Can have authentic South Indian food in a good...   \n",
       "3  Super tasty parotas ever in hyderabad my tummy...   \n",
       "4                                 Namba style hotel.   \n",
       "\n",
       "                                    tokenized_review  \n",
       "0  [Went, with, friends, and, had, many, items, ....  \n",
       "1  [The, food, was, good, ,, the, atmosphere, lik...  \n",
       "2  [Can, have, authentic, South, Indian, food, in...  \n",
       "3  [Super, tasty, parotas, ever, in, hyderabad, m...  \n",
       "4                           [Namba, style, hotel, .]  "
      ]
     },
     "execution_count": 6,
     "metadata": {},
     "output_type": "execute_result"
    }
   ],
   "source": [
    "import nltk\n",
    "nltk.download('punkt')\n",
    "from nltk.tokenize import word_tokenize\n",
    "\n",
    "df1['tokenized_review'] = df1['review'].apply(lambda x: word_tokenize(x))\n",
    "df1.head()"
   ]
  },
  {
   "cell_type": "markdown",
   "id": "6f3fc653",
   "metadata": {},
   "source": [
    "#### Removing unnecessary characters:"
   ]
  },
  {
   "cell_type": "markdown",
   "id": "c6a6ad13",
   "metadata": {},
   "source": [
    "We remove unnecessary characters like punctutations, special characters, and numbers."
   ]
  },
  {
   "cell_type": "code",
   "execution_count": 7,
   "id": "48b90d80",
   "metadata": {},
   "outputs": [
    {
     "data": {
      "text/html": [
       "<div>\n",
       "<style scoped>\n",
       "    .dataframe tbody tr th:only-of-type {\n",
       "        vertical-align: middle;\n",
       "    }\n",
       "\n",
       "    .dataframe tbody tr th {\n",
       "        vertical-align: top;\n",
       "    }\n",
       "\n",
       "    .dataframe thead th {\n",
       "        text-align: right;\n",
       "    }\n",
       "</style>\n",
       "<table border=\"1\" class=\"dataframe\">\n",
       "  <thead>\n",
       "    <tr style=\"text-align: right;\">\n",
       "      <th></th>\n",
       "      <th>review</th>\n",
       "      <th>tokenized_review</th>\n",
       "      <th>cleaned_review</th>\n",
       "    </tr>\n",
       "  </thead>\n",
       "  <tbody>\n",
       "    <tr>\n",
       "      <th>0</th>\n",
       "      <td>Went with friends and had many items. It was y...</td>\n",
       "      <td>[Went, with, friends, and, had, many, items, ....</td>\n",
       "      <td>[went, with, friends, and, had, many, items, ,...</td>\n",
       "    </tr>\n",
       "    <tr>\n",
       "      <th>1</th>\n",
       "      <td>The food was good, the atmosphere like same as...</td>\n",
       "      <td>[The, food, was, good, ,, the, atmosphere, lik...</td>\n",
       "      <td>[the, food, was, good, , the, atmosphere, like...</td>\n",
       "    </tr>\n",
       "    <tr>\n",
       "      <th>2</th>\n",
       "      <td>Can have authentic South Indian food in a good...</td>\n",
       "      <td>[Can, have, authentic, South, Indian, food, in...</td>\n",
       "      <td>[can, have, authentic, south, indian, food, in...</td>\n",
       "    </tr>\n",
       "    <tr>\n",
       "      <th>3</th>\n",
       "      <td>Super tasty parotas ever in hyderabad my tummy...</td>\n",
       "      <td>[Super, tasty, parotas, ever, in, hyderabad, m...</td>\n",
       "      <td>[super, tasty, parotas, ever, in, hyderabad, m...</td>\n",
       "    </tr>\n",
       "    <tr>\n",
       "      <th>4</th>\n",
       "      <td>Namba style hotel.</td>\n",
       "      <td>[Namba, style, hotel, .]</td>\n",
       "      <td>[namba, style, hotel, ]</td>\n",
       "    </tr>\n",
       "  </tbody>\n",
       "</table>\n",
       "</div>"
      ],
      "text/plain": [
       "                                              review  \\\n",
       "0  Went with friends and had many items. It was y...   \n",
       "1  The food was good, the atmosphere like same as...   \n",
       "2  Can have authentic South Indian food in a good...   \n",
       "3  Super tasty parotas ever in hyderabad my tummy...   \n",
       "4                                 Namba style hotel.   \n",
       "\n",
       "                                    tokenized_review  \\\n",
       "0  [Went, with, friends, and, had, many, items, ....   \n",
       "1  [The, food, was, good, ,, the, atmosphere, lik...   \n",
       "2  [Can, have, authentic, South, Indian, food, in...   \n",
       "3  [Super, tasty, parotas, ever, in, hyderabad, m...   \n",
       "4                           [Namba, style, hotel, .]   \n",
       "\n",
       "                                      cleaned_review  \n",
       "0  [went, with, friends, and, had, many, items, ,...  \n",
       "1  [the, food, was, good, , the, atmosphere, like...  \n",
       "2  [can, have, authentic, south, indian, food, in...  \n",
       "3  [super, tasty, parotas, ever, in, hyderabad, m...  \n",
       "4                            [namba, style, hotel, ]  "
      ]
     },
     "execution_count": 7,
     "metadata": {},
     "output_type": "execute_result"
    }
   ],
   "source": [
    "import re\n",
    "import string\n",
    "\n",
    "def clean_text(tokens):\n",
    "    cleaned_tokens = []\n",
    "    for token in tokens:\n",
    "        # remove any punctuation from the token\n",
    "        token = token.translate(str.maketrans('', '', string.punctuation))\n",
    "        # remove any non-alphabetic characters from the token\n",
    "        token = re.sub('[^A-Za-z]+', '', token)\n",
    "        # convert the token to lowercase\n",
    "        token = token.lower()\n",
    "        cleaned_tokens.append(token)\n",
    "    return cleaned_tokens\n",
    "\n",
    "df1['cleaned_review'] = df1['tokenized_review'].apply(lambda x: clean_text(x))\n",
    "\n",
    "df1.head()"
   ]
  },
  {
   "cell_type": "markdown",
   "id": "1b1c644c",
   "metadata": {},
   "source": [
    "#### Removing stopwords:"
   ]
  },
  {
   "cell_type": "markdown",
   "id": "e6cab07f",
   "metadata": {},
   "source": [
    "Stopwords are common words that don't add much meaning to the sentiment. We remove them from the cleaned reviews."
   ]
  },
  {
   "cell_type": "code",
   "execution_count": 8,
   "id": "09f95edf",
   "metadata": {},
   "outputs": [
    {
     "data": {
      "text/html": [
       "<div>\n",
       "<style scoped>\n",
       "    .dataframe tbody tr th:only-of-type {\n",
       "        vertical-align: middle;\n",
       "    }\n",
       "\n",
       "    .dataframe tbody tr th {\n",
       "        vertical-align: top;\n",
       "    }\n",
       "\n",
       "    .dataframe thead th {\n",
       "        text-align: right;\n",
       "    }\n",
       "</style>\n",
       "<table border=\"1\" class=\"dataframe\">\n",
       "  <thead>\n",
       "    <tr style=\"text-align: right;\">\n",
       "      <th></th>\n",
       "      <th>review</th>\n",
       "      <th>tokenized_review</th>\n",
       "      <th>cleaned_review</th>\n",
       "      <th>stopword_removed</th>\n",
       "    </tr>\n",
       "  </thead>\n",
       "  <tbody>\n",
       "    <tr>\n",
       "      <th>0</th>\n",
       "      <td>Went with friends and had many items. It was y...</td>\n",
       "      <td>[Went, with, friends, and, had, many, items, ....</td>\n",
       "      <td>[went, with, friends, and, had, many, items, ,...</td>\n",
       "      <td>[went, friends, many, items, , yummy, , kothu,...</td>\n",
       "    </tr>\n",
       "    <tr>\n",
       "      <th>1</th>\n",
       "      <td>The food was good, the atmosphere like same as...</td>\n",
       "      <td>[The, food, was, good, ,, the, atmosphere, lik...</td>\n",
       "      <td>[the, food, was, good, , the, atmosphere, like...</td>\n",
       "      <td>[food, good, , atmosphere, like, roadside, sho...</td>\n",
       "    </tr>\n",
       "    <tr>\n",
       "      <th>2</th>\n",
       "      <td>Can have authentic South Indian food in a good...</td>\n",
       "      <td>[Can, have, authentic, South, Indian, food, in...</td>\n",
       "      <td>[can, have, authentic, south, indian, food, in...</td>\n",
       "      <td>[authentic, south, indian, food, good, setting...</td>\n",
       "    </tr>\n",
       "    <tr>\n",
       "      <th>3</th>\n",
       "      <td>Super tasty parotas ever in hyderabad my tummy...</td>\n",
       "      <td>[Super, tasty, parotas, ever, in, hyderabad, m...</td>\n",
       "      <td>[super, tasty, parotas, ever, in, hyderabad, m...</td>\n",
       "      <td>[super, tasty, parotas, ever, hyderabad, tummy...</td>\n",
       "    </tr>\n",
       "    <tr>\n",
       "      <th>4</th>\n",
       "      <td>Namba style hotel.</td>\n",
       "      <td>[Namba, style, hotel, .]</td>\n",
       "      <td>[namba, style, hotel, ]</td>\n",
       "      <td>[namba, style, hotel, ]</td>\n",
       "    </tr>\n",
       "  </tbody>\n",
       "</table>\n",
       "</div>"
      ],
      "text/plain": [
       "                                              review  \\\n",
       "0  Went with friends and had many items. It was y...   \n",
       "1  The food was good, the atmosphere like same as...   \n",
       "2  Can have authentic South Indian food in a good...   \n",
       "3  Super tasty parotas ever in hyderabad my tummy...   \n",
       "4                                 Namba style hotel.   \n",
       "\n",
       "                                    tokenized_review  \\\n",
       "0  [Went, with, friends, and, had, many, items, ....   \n",
       "1  [The, food, was, good, ,, the, atmosphere, lik...   \n",
       "2  [Can, have, authentic, South, Indian, food, in...   \n",
       "3  [Super, tasty, parotas, ever, in, hyderabad, m...   \n",
       "4                           [Namba, style, hotel, .]   \n",
       "\n",
       "                                      cleaned_review  \\\n",
       "0  [went, with, friends, and, had, many, items, ,...   \n",
       "1  [the, food, was, good, , the, atmosphere, like...   \n",
       "2  [can, have, authentic, south, indian, food, in...   \n",
       "3  [super, tasty, parotas, ever, in, hyderabad, m...   \n",
       "4                            [namba, style, hotel, ]   \n",
       "\n",
       "                                    stopword_removed  \n",
       "0  [went, friends, many, items, , yummy, , kothu,...  \n",
       "1  [food, good, , atmosphere, like, roadside, sho...  \n",
       "2  [authentic, south, indian, food, good, setting...  \n",
       "3  [super, tasty, parotas, ever, hyderabad, tummy...  \n",
       "4                            [namba, style, hotel, ]  "
      ]
     },
     "execution_count": 8,
     "metadata": {},
     "output_type": "execute_result"
    }
   ],
   "source": [
    "import nltk\n",
    "from nltk.corpus import stopwords\n",
    "\n",
    "stop_words = set(stopwords.words('english'))\n",
    "\n",
    "# Define a function to remove stop words from a list of tokens\n",
    "def remove_stopwords(tokens):\n",
    "    return [token for token in tokens if token not in stop_words]\n",
    "\n",
    "# Apply the remove_stopwords function to the cleaned_comment column\n",
    "df1['stopword_removed'] = df1['cleaned_review'].apply(remove_stopwords)\n",
    "df1.head()"
   ]
  },
  {
   "cell_type": "markdown",
   "id": "ac7fb245",
   "metadata": {},
   "source": [
    "#### Stemming:"
   ]
  },
  {
   "cell_type": "markdown",
   "id": "67cb4a58",
   "metadata": {},
   "source": [
    "We convert each word to it's root form."
   ]
  },
  {
   "cell_type": "code",
   "execution_count": 9,
   "id": "2d3d4793",
   "metadata": {},
   "outputs": [
    {
     "data": {
      "text/html": [
       "<div>\n",
       "<style scoped>\n",
       "    .dataframe tbody tr th:only-of-type {\n",
       "        vertical-align: middle;\n",
       "    }\n",
       "\n",
       "    .dataframe tbody tr th {\n",
       "        vertical-align: top;\n",
       "    }\n",
       "\n",
       "    .dataframe thead th {\n",
       "        text-align: right;\n",
       "    }\n",
       "</style>\n",
       "<table border=\"1\" class=\"dataframe\">\n",
       "  <thead>\n",
       "    <tr style=\"text-align: right;\">\n",
       "      <th></th>\n",
       "      <th>review</th>\n",
       "      <th>tokenized_review</th>\n",
       "      <th>cleaned_review</th>\n",
       "      <th>stopword_removed</th>\n",
       "      <th>stemmed_review</th>\n",
       "    </tr>\n",
       "  </thead>\n",
       "  <tbody>\n",
       "    <tr>\n",
       "      <th>0</th>\n",
       "      <td>Went with friends and had many items. It was y...</td>\n",
       "      <td>[Went, with, friends, and, had, many, items, ....</td>\n",
       "      <td>[went, with, friends, and, had, many, items, ,...</td>\n",
       "      <td>[went, friends, many, items, , yummy, , kothu,...</td>\n",
       "      <td>[went, friend, mani, item, , yummi, , kothu, p...</td>\n",
       "    </tr>\n",
       "    <tr>\n",
       "      <th>1</th>\n",
       "      <td>The food was good, the atmosphere like same as...</td>\n",
       "      <td>[The, food, was, good, ,, the, atmosphere, lik...</td>\n",
       "      <td>[the, food, was, good, , the, atmosphere, like...</td>\n",
       "      <td>[food, good, , atmosphere, like, roadside, sho...</td>\n",
       "      <td>[food, good, , atmospher, like, roadsid, shop,...</td>\n",
       "    </tr>\n",
       "    <tr>\n",
       "      <th>2</th>\n",
       "      <td>Can have authentic South Indian food in a good...</td>\n",
       "      <td>[Can, have, authentic, South, Indian, food, in...</td>\n",
       "      <td>[can, have, authentic, south, indian, food, in...</td>\n",
       "      <td>[authentic, south, indian, food, good, setting...</td>\n",
       "      <td>[authent, south, indian, food, good, set, , mu...</td>\n",
       "    </tr>\n",
       "    <tr>\n",
       "      <th>3</th>\n",
       "      <td>Super tasty parotas ever in hyderabad my tummy...</td>\n",
       "      <td>[Super, tasty, parotas, ever, in, hyderabad, m...</td>\n",
       "      <td>[super, tasty, parotas, ever, in, hyderabad, m...</td>\n",
       "      <td>[super, tasty, parotas, ever, hyderabad, tummy...</td>\n",
       "      <td>[super, tasti, parota, ever, hyderabad, tummi,...</td>\n",
       "    </tr>\n",
       "    <tr>\n",
       "      <th>4</th>\n",
       "      <td>Namba style hotel.</td>\n",
       "      <td>[Namba, style, hotel, .]</td>\n",
       "      <td>[namba, style, hotel, ]</td>\n",
       "      <td>[namba, style, hotel, ]</td>\n",
       "      <td>[namba, style, hotel, ]</td>\n",
       "    </tr>\n",
       "  </tbody>\n",
       "</table>\n",
       "</div>"
      ],
      "text/plain": [
       "                                              review  \\\n",
       "0  Went with friends and had many items. It was y...   \n",
       "1  The food was good, the atmosphere like same as...   \n",
       "2  Can have authentic South Indian food in a good...   \n",
       "3  Super tasty parotas ever in hyderabad my tummy...   \n",
       "4                                 Namba style hotel.   \n",
       "\n",
       "                                    tokenized_review  \\\n",
       "0  [Went, with, friends, and, had, many, items, ....   \n",
       "1  [The, food, was, good, ,, the, atmosphere, lik...   \n",
       "2  [Can, have, authentic, South, Indian, food, in...   \n",
       "3  [Super, tasty, parotas, ever, in, hyderabad, m...   \n",
       "4                           [Namba, style, hotel, .]   \n",
       "\n",
       "                                      cleaned_review  \\\n",
       "0  [went, with, friends, and, had, many, items, ,...   \n",
       "1  [the, food, was, good, , the, atmosphere, like...   \n",
       "2  [can, have, authentic, south, indian, food, in...   \n",
       "3  [super, tasty, parotas, ever, in, hyderabad, m...   \n",
       "4                            [namba, style, hotel, ]   \n",
       "\n",
       "                                    stopword_removed  \\\n",
       "0  [went, friends, many, items, , yummy, , kothu,...   \n",
       "1  [food, good, , atmosphere, like, roadside, sho...   \n",
       "2  [authentic, south, indian, food, good, setting...   \n",
       "3  [super, tasty, parotas, ever, hyderabad, tummy...   \n",
       "4                            [namba, style, hotel, ]   \n",
       "\n",
       "                                      stemmed_review  \n",
       "0  [went, friend, mani, item, , yummi, , kothu, p...  \n",
       "1  [food, good, , atmospher, like, roadsid, shop,...  \n",
       "2  [authent, south, indian, food, good, set, , mu...  \n",
       "3  [super, tasti, parota, ever, hyderabad, tummi,...  \n",
       "4                            [namba, style, hotel, ]  "
      ]
     },
     "execution_count": 9,
     "metadata": {},
     "output_type": "execute_result"
    }
   ],
   "source": [
    "from nltk.stem import PorterStemmer\n",
    "\n",
    "stemmer = PorterStemmer()\n",
    "\n",
    "df1['stemmed_review'] = df1['stopword_removed'].apply(lambda x: [stemmer.stem(word) for word in x])\n",
    "df1.head()"
   ]
  },
  {
   "cell_type": "markdown",
   "id": "e385c3a4",
   "metadata": {},
   "source": [
    "### Sentiment Analysis of all the reviews"
   ]
  },
  {
   "cell_type": "markdown",
   "id": "ad21af79",
   "metadata": {},
   "source": [
    "We will be using the 'stemmed_review' column to do our analysis."
   ]
  },
  {
   "cell_type": "code",
   "execution_count": 10,
   "id": "42c94721",
   "metadata": {},
   "outputs": [],
   "source": [
    "df = df1.iloc[:,-1:] \n",
    "df['stemmed_review'] = df['stemmed_review'].apply(lambda x: ' '.join(x))\n",
    "df.head()\n",
    "df.to_csv('stemmed_reviews.csv', index=False)"
   ]
  },
  {
   "cell_type": "markdown",
   "id": "3e69f7cc",
   "metadata": {},
   "source": [
    "#### We will now use the SentimentIntensityAnalyzer from nltk to do a sentiment analysis:"
   ]
  },
  {
   "cell_type": "code",
   "execution_count": 11,
   "id": "7579cd83",
   "metadata": {},
   "outputs": [
    {
     "data": {
      "text/html": [
       "<div>\n",
       "<style scoped>\n",
       "    .dataframe tbody tr th:only-of-type {\n",
       "        vertical-align: middle;\n",
       "    }\n",
       "\n",
       "    .dataframe tbody tr th {\n",
       "        vertical-align: top;\n",
       "    }\n",
       "\n",
       "    .dataframe thead th {\n",
       "        text-align: right;\n",
       "    }\n",
       "</style>\n",
       "<table border=\"1\" class=\"dataframe\">\n",
       "  <thead>\n",
       "    <tr style=\"text-align: right;\">\n",
       "      <th></th>\n",
       "      <th>stemmed_review</th>\n",
       "      <th>neg</th>\n",
       "      <th>neu</th>\n",
       "      <th>pos</th>\n",
       "      <th>compound</th>\n",
       "    </tr>\n",
       "  </thead>\n",
       "  <tbody>\n",
       "    <tr>\n",
       "      <th>0</th>\n",
       "      <td>went friend mani item  yummi  kothu parotha ch...</td>\n",
       "      <td>0.0</td>\n",
       "      <td>0.758</td>\n",
       "      <td>0.242</td>\n",
       "      <td>0.4939</td>\n",
       "    </tr>\n",
       "    <tr>\n",
       "      <th>1</th>\n",
       "      <td>food good  atmospher like roadsid shop madurai...</td>\n",
       "      <td>0.0</td>\n",
       "      <td>0.444</td>\n",
       "      <td>0.556</td>\n",
       "      <td>0.9100</td>\n",
       "    </tr>\n",
       "    <tr>\n",
       "      <th>2</th>\n",
       "      <td>authent south indian food good set  must visit</td>\n",
       "      <td>0.0</td>\n",
       "      <td>0.707</td>\n",
       "      <td>0.293</td>\n",
       "      <td>0.4404</td>\n",
       "    </tr>\n",
       "    <tr>\n",
       "      <th>3</th>\n",
       "      <td>super tasti parota ever hyderabad tummi full ever</td>\n",
       "      <td>0.0</td>\n",
       "      <td>0.642</td>\n",
       "      <td>0.358</td>\n",
       "      <td>0.5994</td>\n",
       "    </tr>\n",
       "    <tr>\n",
       "      <th>4</th>\n",
       "      <td>namba style hotel</td>\n",
       "      <td>0.0</td>\n",
       "      <td>1.000</td>\n",
       "      <td>0.000</td>\n",
       "      <td>0.0000</td>\n",
       "    </tr>\n",
       "  </tbody>\n",
       "</table>\n",
       "</div>"
      ],
      "text/plain": [
       "                                      stemmed_review  neg    neu    pos  \\\n",
       "0  went friend mani item  yummi  kothu parotha ch...  0.0  0.758  0.242   \n",
       "1  food good  atmospher like roadsid shop madurai...  0.0  0.444  0.556   \n",
       "2   authent south indian food good set  must visit    0.0  0.707  0.293   \n",
       "3  super tasti parota ever hyderabad tummi full ever  0.0  0.642  0.358   \n",
       "4                                 namba style hotel   0.0  1.000  0.000   \n",
       "\n",
       "   compound  \n",
       "0    0.4939  \n",
       "1    0.9100  \n",
       "2    0.4404  \n",
       "3    0.5994  \n",
       "4    0.0000  "
      ]
     },
     "execution_count": 11,
     "metadata": {},
     "output_type": "execute_result"
    }
   ],
   "source": [
    "from nltk.sentiment.vader import SentimentIntensityAnalyzer\n",
    "\n",
    "sia = SentimentIntensityAnalyzer()\n",
    "\n",
    "df.loc[:, 'sentiment_scores'] = df['stemmed_review'].apply(sia.polarity_scores)\n",
    "\n",
    "df = pd.concat([df.drop(['sentiment_scores'], axis=1), df['sentiment_scores'].apply(pd.Series)], axis=1)\n",
    "df.head()"
   ]
  },
  {
   "cell_type": "markdown",
   "id": "43a317d6",
   "metadata": {},
   "source": [
    "Here, the 'neg', 'neu', and 'pos' columns give us the negative, neutral, and positive sentiment scores respectively. <br>\n",
    "The 'compound' column gives the overall sentiment score in a range of -1 to 1, where -1 is extremely negative and 1 is extremely positive.<br>\n",
    "The compound score takes into consideration the polarity and intensity, and normalises them to get the score."
   ]
  },
  {
   "cell_type": "code",
   "execution_count": 12,
   "id": "92d83a6b",
   "metadata": {},
   "outputs": [
    {
     "data": {
      "image/png": "[encoded data removed]",
      "text/plain": [
       "<Figure size 432x288 with 1 Axes>"
      ]
     },
     "metadata": {},
     "output_type": "display_data"
    }
   ],
   "source": [
    "import matplotlib.pyplot as plt\n",
    "\n",
    "positive = len(df[df['compound'] > 0])\n",
    "negative = len(df[df['compound'] < 0])\n",
    "neutral = len(df[df['compound'] == 0])\n",
    "\n",
    "plt.pie([positive, negative, neutral], labels=['Positive', 'Negative', 'Neutral'], \n",
    "        autopct='%1.1f%%', colors=['#7dfa9e', '#fa7d7d', '#e8e6e6'])\n",
    "plt.title('Sentiment Analysis Results')\n",
    "plt.show()"
   ]
  },
  {
   "cell_type": "markdown",
   "id": "86a2c72e",
   "metadata": {},
   "source": [
    "#### The overall sentiment is positive, and around a quarter of the reviews are neutral."
   ]
  },
  {
   "cell_type": "code",
   "execution_count": 13,
   "id": "91d07045",
   "metadata": {},
   "outputs": [
    {
     "data": {
      "text/html": [
       "<div>\n",
       "<style scoped>\n",
       "    .dataframe tbody tr th:only-of-type {\n",
       "        vertical-align: middle;\n",
       "    }\n",
       "\n",
       "    .dataframe tbody tr th {\n",
       "        vertical-align: top;\n",
       "    }\n",
       "\n",
       "    .dataframe thead th {\n",
       "        text-align: right;\n",
       "    }\n",
       "</style>\n",
       "<table border=\"1\" class=\"dataframe\">\n",
       "  <thead>\n",
       "    <tr style=\"text-align: right;\">\n",
       "      <th></th>\n",
       "      <th>neg</th>\n",
       "      <th>neu</th>\n",
       "      <th>pos</th>\n",
       "      <th>compound</th>\n",
       "    </tr>\n",
       "  </thead>\n",
       "  <tbody>\n",
       "    <tr>\n",
       "      <th>count</th>\n",
       "      <td>475.000000</td>\n",
       "      <td>475.000000</td>\n",
       "      <td>475.000000</td>\n",
       "      <td>475.000000</td>\n",
       "    </tr>\n",
       "    <tr>\n",
       "      <th>mean</th>\n",
       "      <td>0.019232</td>\n",
       "      <td>0.606611</td>\n",
       "      <td>0.374160</td>\n",
       "      <td>0.397016</td>\n",
       "    </tr>\n",
       "    <tr>\n",
       "      <th>std</th>\n",
       "      <td>0.095999</td>\n",
       "      <td>0.319354</td>\n",
       "      <td>0.321048</td>\n",
       "      <td>0.327292</td>\n",
       "    </tr>\n",
       "    <tr>\n",
       "      <th>min</th>\n",
       "      <td>0.000000</td>\n",
       "      <td>0.000000</td>\n",
       "      <td>0.000000</td>\n",
       "      <td>-0.659700</td>\n",
       "    </tr>\n",
       "    <tr>\n",
       "      <th>25%</th>\n",
       "      <td>0.000000</td>\n",
       "      <td>0.369000</td>\n",
       "      <td>0.000000</td>\n",
       "      <td>0.000000</td>\n",
       "    </tr>\n",
       "    <tr>\n",
       "      <th>50%</th>\n",
       "      <td>0.000000</td>\n",
       "      <td>0.633000</td>\n",
       "      <td>0.344000</td>\n",
       "      <td>0.440400</td>\n",
       "    </tr>\n",
       "    <tr>\n",
       "      <th>75%</th>\n",
       "      <td>0.000000</td>\n",
       "      <td>0.891000</td>\n",
       "      <td>0.592000</td>\n",
       "      <td>0.636900</td>\n",
       "    </tr>\n",
       "    <tr>\n",
       "      <th>max</th>\n",
       "      <td>1.000000</td>\n",
       "      <td>1.000000</td>\n",
       "      <td>1.000000</td>\n",
       "      <td>0.972900</td>\n",
       "    </tr>\n",
       "  </tbody>\n",
       "</table>\n",
       "</div>"
      ],
      "text/plain": [
       "              neg         neu         pos    compound\n",
       "count  475.000000  475.000000  475.000000  475.000000\n",
       "mean     0.019232    0.606611    0.374160    0.397016\n",
       "std      0.095999    0.319354    0.321048    0.327292\n",
       "min      0.000000    0.000000    0.000000   -0.659700\n",
       "25%      0.000000    0.369000    0.000000    0.000000\n",
       "50%      0.000000    0.633000    0.344000    0.440400\n",
       "75%      0.000000    0.891000    0.592000    0.636900\n",
       "max      1.000000    1.000000    1.000000    0.972900"
      ]
     },
     "execution_count": 13,
     "metadata": {},
     "output_type": "execute_result"
    }
   ],
   "source": [
    "df.describe()"
   ]
  },
  {
   "cell_type": "markdown",
   "id": "cb9bf81d",
   "metadata": {},
   "source": [
    "#### The mean of the 'neg' column is 0.019 and the median is 0.000, and the standard deviation is 0.096. The negative sentiment is quite low.\n",
    "#### The mean of the 'neu' column is 0.607, the median is 0.633, and the standard deviation is 0.320. There is a high sentiment of neutrality, with moderate deviation.\n",
    "#### The mean and median of the 'pos' column are 0.397 and 0.440, and the standard deviation is 0.327. This shows that reviews lean quite a bit to the positive side, with moderate deviation."
   ]
  },
  {
   "cell_type": "markdown",
   "id": "a2d3b391",
   "metadata": {},
   "source": [
    "#### The 'compound' column has a mean of 0.397 and a median of 0.440, which tells us that the overall sentiment of the comment thread is positive. The standard deviation is 0.327, which shows that the sentiments are varied."
   ]
  },
  {
   "cell_type": "markdown",
   "id": "1a59fc26",
   "metadata": {},
   "source": [
    "### Sentiment Analysis of all the reviews that mention food"
   ]
  },
  {
   "cell_type": "code",
   "execution_count": 14,
   "id": "6352620f",
   "metadata": {},
   "outputs": [],
   "source": [
    "df = pd.read_csv('stemmed_reviews_food.csv')"
   ]
  },
  {
   "cell_type": "code",
   "execution_count": 15,
   "id": "c9a84140",
   "metadata": {},
   "outputs": [
    {
     "data": {
      "text/html": [
       "<div>\n",
       "<style scoped>\n",
       "    .dataframe tbody tr th:only-of-type {\n",
       "        vertical-align: middle;\n",
       "    }\n",
       "\n",
       "    .dataframe tbody tr th {\n",
       "        vertical-align: top;\n",
       "    }\n",
       "\n",
       "    .dataframe thead th {\n",
       "        text-align: right;\n",
       "    }\n",
       "</style>\n",
       "<table border=\"1\" class=\"dataframe\">\n",
       "  <thead>\n",
       "    <tr style=\"text-align: right;\">\n",
       "      <th></th>\n",
       "      <th>stemmed_review</th>\n",
       "      <th>neg</th>\n",
       "      <th>neu</th>\n",
       "      <th>pos</th>\n",
       "      <th>compound</th>\n",
       "    </tr>\n",
       "  </thead>\n",
       "  <tbody>\n",
       "    <tr>\n",
       "      <th>0</th>\n",
       "      <td>food good  atmospher like roadsid shop madurai...</td>\n",
       "      <td>0.000</td>\n",
       "      <td>0.444</td>\n",
       "      <td>0.556</td>\n",
       "      <td>0.9100</td>\n",
       "    </tr>\n",
       "    <tr>\n",
       "      <th>1</th>\n",
       "      <td>authent south indian food good set  must visit</td>\n",
       "      <td>0.000</td>\n",
       "      <td>0.707</td>\n",
       "      <td>0.293</td>\n",
       "      <td>0.4404</td>\n",
       "    </tr>\n",
       "    <tr>\n",
       "      <th>2</th>\n",
       "      <td>got food poison food  place use amaz  year   r...</td>\n",
       "      <td>0.171</td>\n",
       "      <td>0.688</td>\n",
       "      <td>0.141</td>\n",
       "      <td>-0.3818</td>\n",
       "    </tr>\n",
       "    <tr>\n",
       "      <th>3</th>\n",
       "      <td>almost daili visit  best food</td>\n",
       "      <td>0.000</td>\n",
       "      <td>0.504</td>\n",
       "      <td>0.496</td>\n",
       "      <td>0.6041</td>\n",
       "    </tr>\n",
       "    <tr>\n",
       "      <th>4</th>\n",
       "      <td>tast local tamilnadu street food authent tast ...</td>\n",
       "      <td>0.055</td>\n",
       "      <td>0.769</td>\n",
       "      <td>0.176</td>\n",
       "      <td>0.5994</td>\n",
       "    </tr>\n",
       "  </tbody>\n",
       "</table>\n",
       "</div>"
      ],
      "text/plain": [
       "                                      stemmed_review    neg    neu    pos  \\\n",
       "0  food good  atmospher like roadsid shop madurai...  0.000  0.444  0.556   \n",
       "1   authent south indian food good set  must visit    0.000  0.707  0.293   \n",
       "2  got food poison food  place use amaz  year   r...  0.171  0.688  0.141   \n",
       "3                      almost daili visit  best food  0.000  0.504  0.496   \n",
       "4  tast local tamilnadu street food authent tast ...  0.055  0.769  0.176   \n",
       "\n",
       "   compound  \n",
       "0    0.9100  \n",
       "1    0.4404  \n",
       "2   -0.3818  \n",
       "3    0.6041  \n",
       "4    0.5994  "
      ]
     },
     "execution_count": 15,
     "metadata": {},
     "output_type": "execute_result"
    }
   ],
   "source": [
    "from nltk.sentiment.vader import SentimentIntensityAnalyzer\n",
    "\n",
    "sia = SentimentIntensityAnalyzer()\n",
    "\n",
    "df.loc[:, 'sentiment_scores'] = df['stemmed_review'].apply(sia.polarity_scores)\n",
    "\n",
    "df = pd.concat([df.drop(['sentiment_scores'], axis=1), df['sentiment_scores'].apply(pd.Series)], axis=1)\n",
    "df.head()"
   ]
  },
  {
   "cell_type": "code",
   "execution_count": 16,
   "id": "6a3cd0ed",
   "metadata": {},
   "outputs": [
    {
     "data": {
      "image/png": "[encoded data removed]",
      "text/plain": [
       "<Figure size 432x288 with 1 Axes>"
      ]
     },
     "metadata": {},
     "output_type": "display_data"
    }
   ],
   "source": [
    "import matplotlib.pyplot as plt\n",
    "\n",
    "positive = len(df[df['compound'] > 0])\n",
    "negative = len(df[df['compound'] < 0])\n",
    "neutral = len(df[df['compound'] == 0])\n",
    "\n",
    "plt.pie([positive, negative, neutral], labels=['Positive', 'Negative', 'Neutral'], \n",
    "        autopct='%1.1f%%', colors=['#7dfa9e', '#fa7d7d', '#e8e6e6'])\n",
    "plt.title('Sentiment Analysis Results')\n",
    "plt.show()"
   ]
  },
  {
   "cell_type": "markdown",
   "id": "f164a920",
   "metadata": {},
   "source": [
    "#### The overall sentiment is positive."
   ]
  },
  {
   "cell_type": "code",
   "execution_count": 17,
   "id": "37e2ab99",
   "metadata": {
    "scrolled": true
   },
   "outputs": [
    {
     "data": {
      "text/html": [
       "<div>\n",
       "<style scoped>\n",
       "    .dataframe tbody tr th:only-of-type {\n",
       "        vertical-align: middle;\n",
       "    }\n",
       "\n",
       "    .dataframe tbody tr th {\n",
       "        vertical-align: top;\n",
       "    }\n",
       "\n",
       "    .dataframe thead th {\n",
       "        text-align: right;\n",
       "    }\n",
       "</style>\n",
       "<table border=\"1\" class=\"dataframe\">\n",
       "  <thead>\n",
       "    <tr style=\"text-align: right;\">\n",
       "      <th></th>\n",
       "      <th>neg</th>\n",
       "      <th>neu</th>\n",
       "      <th>pos</th>\n",
       "      <th>compound</th>\n",
       "    </tr>\n",
       "  </thead>\n",
       "  <tbody>\n",
       "    <tr>\n",
       "      <th>count</th>\n",
       "      <td>222.000000</td>\n",
       "      <td>222.000000</td>\n",
       "      <td>222.000000</td>\n",
       "      <td>222.000000</td>\n",
       "    </tr>\n",
       "    <tr>\n",
       "      <th>mean</th>\n",
       "      <td>0.008748</td>\n",
       "      <td>0.640982</td>\n",
       "      <td>0.350266</td>\n",
       "      <td>0.480110</td>\n",
       "    </tr>\n",
       "    <tr>\n",
       "      <th>std</th>\n",
       "      <td>0.041524</td>\n",
       "      <td>0.248852</td>\n",
       "      <td>0.250244</td>\n",
       "      <td>0.321685</td>\n",
       "    </tr>\n",
       "    <tr>\n",
       "      <th>min</th>\n",
       "      <td>0.000000</td>\n",
       "      <td>0.192000</td>\n",
       "      <td>0.000000</td>\n",
       "      <td>-0.659700</td>\n",
       "    </tr>\n",
       "    <tr>\n",
       "      <th>25%</th>\n",
       "      <td>0.000000</td>\n",
       "      <td>0.443250</td>\n",
       "      <td>0.164500</td>\n",
       "      <td>0.361200</td>\n",
       "    </tr>\n",
       "    <tr>\n",
       "      <th>50%</th>\n",
       "      <td>0.000000</td>\n",
       "      <td>0.656000</td>\n",
       "      <td>0.341000</td>\n",
       "      <td>0.449600</td>\n",
       "    </tr>\n",
       "    <tr>\n",
       "      <th>75%</th>\n",
       "      <td>0.000000</td>\n",
       "      <td>0.811750</td>\n",
       "      <td>0.543500</td>\n",
       "      <td>0.700300</td>\n",
       "    </tr>\n",
       "    <tr>\n",
       "      <th>max</th>\n",
       "      <td>0.368000</td>\n",
       "      <td>1.000000</td>\n",
       "      <td>0.808000</td>\n",
       "      <td>0.972900</td>\n",
       "    </tr>\n",
       "  </tbody>\n",
       "</table>\n",
       "</div>"
      ],
      "text/plain": [
       "              neg         neu         pos    compound\n",
       "count  222.000000  222.000000  222.000000  222.000000\n",
       "mean     0.008748    0.640982    0.350266    0.480110\n",
       "std      0.041524    0.248852    0.250244    0.321685\n",
       "min      0.000000    0.192000    0.000000   -0.659700\n",
       "25%      0.000000    0.443250    0.164500    0.361200\n",
       "50%      0.000000    0.656000    0.341000    0.449600\n",
       "75%      0.000000    0.811750    0.543500    0.700300\n",
       "max      0.368000    1.000000    0.808000    0.972900"
      ]
     },
     "execution_count": 17,
     "metadata": {},
     "output_type": "execute_result"
    }
   ],
   "source": [
    "df.describe()"
   ]
  },
  {
   "cell_type": "markdown",
   "id": "718a4143",
   "metadata": {},
   "source": [
    "#### The mean of the 'neg' column is 0.009 and the median is 0.000, and the standard deviation is 0.042. The negative sentiment is very low, with low variation.\n",
    "#### The mean of the 'neu' column is 0.641, the median is 0.656, and the standard deviation is 0.249. There is a high sentiment of neutrality, with moderate deviation.\n",
    "#### The mean and median of the 'pos' column are 0.350 and 0.341, and the standard deviation is 0.250. This shows that reviews lean quite a bit to the positive side, with moderate deviation."
   ]
  },
  {
   "cell_type": "markdown",
   "id": "3f52d7f2",
   "metadata": {},
   "source": [
    "#### The 'compound' column has a mean of 0.480 and a median of 0.450, which tells us that the overall sentiment of the comment thread is positive. The standard deviation is 0.322, which shows that the sentiments are varied."
   ]
  },
  {
   "cell_type": "markdown",
   "id": "55fbe822",
   "metadata": {},
   "source": [
    "### Sentiment Analysis of all the reviews that mention taste"
   ]
  },
  {
   "cell_type": "code",
   "execution_count": 18,
   "id": "f14f803a",
   "metadata": {},
   "outputs": [],
   "source": [
    "df = pd.read_csv('stemmed_reviews_taste.csv')"
   ]
  },
  {
   "cell_type": "code",
   "execution_count": 19,
   "id": "f5b24077",
   "metadata": {},
   "outputs": [
    {
     "data": {
      "text/html": [
       "<div>\n",
       "<style scoped>\n",
       "    .dataframe tbody tr th:only-of-type {\n",
       "        vertical-align: middle;\n",
       "    }\n",
       "\n",
       "    .dataframe tbody tr th {\n",
       "        vertical-align: top;\n",
       "    }\n",
       "\n",
       "    .dataframe thead th {\n",
       "        text-align: right;\n",
       "    }\n",
       "</style>\n",
       "<table border=\"1\" class=\"dataframe\">\n",
       "  <thead>\n",
       "    <tr style=\"text-align: right;\">\n",
       "      <th></th>\n",
       "      <th>stemmed_review</th>\n",
       "      <th>neg</th>\n",
       "      <th>neu</th>\n",
       "      <th>pos</th>\n",
       "      <th>compound</th>\n",
       "    </tr>\n",
       "  </thead>\n",
       "  <tbody>\n",
       "    <tr>\n",
       "      <th>0</th>\n",
       "      <td>super tasti parota ever hyderabad tummi full ever</td>\n",
       "      <td>0.000</td>\n",
       "      <td>0.642</td>\n",
       "      <td>0.358</td>\n",
       "      <td>0.5994</td>\n",
       "    </tr>\n",
       "    <tr>\n",
       "      <th>1</th>\n",
       "      <td>great tast authent tamilnadu dinner item  briy...</td>\n",
       "      <td>0.000</td>\n",
       "      <td>0.594</td>\n",
       "      <td>0.406</td>\n",
       "      <td>0.6249</td>\n",
       "    </tr>\n",
       "    <tr>\n",
       "      <th>2</th>\n",
       "      <td>tast local tamilnadu street food authent tast ...</td>\n",
       "      <td>0.055</td>\n",
       "      <td>0.769</td>\n",
       "      <td>0.176</td>\n",
       "      <td>0.5994</td>\n",
       "    </tr>\n",
       "    <tr>\n",
       "      <th>3</th>\n",
       "      <td>nice place tamil nadu dish tast authent combin...</td>\n",
       "      <td>0.000</td>\n",
       "      <td>0.674</td>\n",
       "      <td>0.326</td>\n",
       "      <td>0.7003</td>\n",
       "    </tr>\n",
       "    <tr>\n",
       "      <th>4</th>\n",
       "      <td>ca nt say authent tamil cuisin  better tamil h...</td>\n",
       "      <td>0.000</td>\n",
       "      <td>0.674</td>\n",
       "      <td>0.326</td>\n",
       "      <td>0.7003</td>\n",
       "    </tr>\n",
       "  </tbody>\n",
       "</table>\n",
       "</div>"
      ],
      "text/plain": [
       "                                      stemmed_review    neg    neu    pos  \\\n",
       "0  super tasti parota ever hyderabad tummi full ever  0.000  0.642  0.358   \n",
       "1  great tast authent tamilnadu dinner item  briy...  0.000  0.594  0.406   \n",
       "2  tast local tamilnadu street food authent tast ...  0.055  0.769  0.176   \n",
       "3  nice place tamil nadu dish tast authent combin...  0.000  0.674  0.326   \n",
       "4  ca nt say authent tamil cuisin  better tamil h...  0.000  0.674  0.326   \n",
       "\n",
       "   compound  \n",
       "0    0.5994  \n",
       "1    0.6249  \n",
       "2    0.5994  \n",
       "3    0.7003  \n",
       "4    0.7003  "
      ]
     },
     "execution_count": 19,
     "metadata": {},
     "output_type": "execute_result"
    }
   ],
   "source": [
    "from nltk.sentiment.vader import SentimentIntensityAnalyzer\n",
    "\n",
    "sia = SentimentIntensityAnalyzer()\n",
    "\n",
    "df.loc[:, 'sentiment_scores'] = df['stemmed_review'].apply(sia.polarity_scores)\n",
    "\n",
    "df = pd.concat([df.drop(['sentiment_scores'], axis=1), df['sentiment_scores'].apply(pd.Series)], axis=1)\n",
    "df.head()"
   ]
  },
  {
   "cell_type": "code",
   "execution_count": 20,
   "id": "2f80ecc2",
   "metadata": {},
   "outputs": [
    {
     "data": {
      "image/png": "[encoded data removed]",
      "text/plain": [
       "<Figure size 432x288 with 1 Axes>"
      ]
     },
     "metadata": {},
     "output_type": "display_data"
    }
   ],
   "source": [
    "import matplotlib.pyplot as plt\n",
    "\n",
    "positive = len(df[df['compound'] > 0])\n",
    "negative = len(df[df['compound'] < 0])\n",
    "neutral = len(df[df['compound'] == 0])\n",
    "\n",
    "plt.pie([positive, negative, neutral], labels=['Positive', 'Negative', 'Neutral'], \n",
    "        autopct='%1.1f%%', colors=['#7dfa9e', '#fa7d7d', '#e8e6e6'])\n",
    "plt.title('Sentiment Analysis Results')\n",
    "plt.show()"
   ]
  },
  {
   "cell_type": "markdown",
   "id": "f0b2acdc",
   "metadata": {},
   "source": [
    "#### The overall sentiment is positive, and around a quarter of the reviews are neutral."
   ]
  },
  {
   "cell_type": "code",
   "execution_count": 21,
   "id": "646efe77",
   "metadata": {
    "scrolled": true
   },
   "outputs": [
    {
     "data": {
      "text/html": [
       "<div>\n",
       "<style scoped>\n",
       "    .dataframe tbody tr th:only-of-type {\n",
       "        vertical-align: middle;\n",
       "    }\n",
       "\n",
       "    .dataframe tbody tr th {\n",
       "        vertical-align: top;\n",
       "    }\n",
       "\n",
       "    .dataframe thead th {\n",
       "        text-align: right;\n",
       "    }\n",
       "</style>\n",
       "<table border=\"1\" class=\"dataframe\">\n",
       "  <thead>\n",
       "    <tr style=\"text-align: right;\">\n",
       "      <th></th>\n",
       "      <th>neg</th>\n",
       "      <th>neu</th>\n",
       "      <th>pos</th>\n",
       "      <th>compound</th>\n",
       "    </tr>\n",
       "  </thead>\n",
       "  <tbody>\n",
       "    <tr>\n",
       "      <th>count</th>\n",
       "      <td>161.000000</td>\n",
       "      <td>161.000000</td>\n",
       "      <td>161.000000</td>\n",
       "      <td>161.000000</td>\n",
       "    </tr>\n",
       "    <tr>\n",
       "      <th>mean</th>\n",
       "      <td>0.009161</td>\n",
       "      <td>0.703211</td>\n",
       "      <td>0.287640</td>\n",
       "      <td>0.451434</td>\n",
       "    </tr>\n",
       "    <tr>\n",
       "      <th>std</th>\n",
       "      <td>0.035497</td>\n",
       "      <td>0.238382</td>\n",
       "      <td>0.236759</td>\n",
       "      <td>0.319520</td>\n",
       "    </tr>\n",
       "    <tr>\n",
       "      <th>min</th>\n",
       "      <td>0.000000</td>\n",
       "      <td>0.192000</td>\n",
       "      <td>0.000000</td>\n",
       "      <td>-0.051600</td>\n",
       "    </tr>\n",
       "    <tr>\n",
       "      <th>25%</th>\n",
       "      <td>0.000000</td>\n",
       "      <td>0.530000</td>\n",
       "      <td>0.000000</td>\n",
       "      <td>0.000000</td>\n",
       "    </tr>\n",
       "    <tr>\n",
       "      <th>50%</th>\n",
       "      <td>0.000000</td>\n",
       "      <td>0.732000</td>\n",
       "      <td>0.262000</td>\n",
       "      <td>0.440400</td>\n",
       "    </tr>\n",
       "    <tr>\n",
       "      <th>75%</th>\n",
       "      <td>0.000000</td>\n",
       "      <td>1.000000</td>\n",
       "      <td>0.455000</td>\n",
       "      <td>0.700300</td>\n",
       "    </tr>\n",
       "    <tr>\n",
       "      <th>max</th>\n",
       "      <td>0.310000</td>\n",
       "      <td>1.000000</td>\n",
       "      <td>0.808000</td>\n",
       "      <td>0.965200</td>\n",
       "    </tr>\n",
       "  </tbody>\n",
       "</table>\n",
       "</div>"
      ],
      "text/plain": [
       "              neg         neu         pos    compound\n",
       "count  161.000000  161.000000  161.000000  161.000000\n",
       "mean     0.009161    0.703211    0.287640    0.451434\n",
       "std      0.035497    0.238382    0.236759    0.319520\n",
       "min      0.000000    0.192000    0.000000   -0.051600\n",
       "25%      0.000000    0.530000    0.000000    0.000000\n",
       "50%      0.000000    0.732000    0.262000    0.440400\n",
       "75%      0.000000    1.000000    0.455000    0.700300\n",
       "max      0.310000    1.000000    0.808000    0.965200"
      ]
     },
     "execution_count": 21,
     "metadata": {},
     "output_type": "execute_result"
    }
   ],
   "source": [
    "df.describe()"
   ]
  },
  {
   "cell_type": "markdown",
   "id": "aa3a6518",
   "metadata": {},
   "source": [
    "#### The mean of the 'neg' column is 0.009, the median is 0.000, and the standard deviation is 0.035. The negative sentiment is very low, with low variation.\n",
    "#### The mean of the 'neu' column is 0.703, the median is 0.732, and the standard deviation is 0.238. There is a high sentiment of neutrality, with moderate deviation.\n",
    "#### The mean and median of the 'pos' column are 0.288 and 0.262 respectively, and the standard deviation is 0.237. This shows that reviews lean quite a bit to the positive side, with moderate deviation."
   ]
  },
  {
   "cell_type": "markdown",
   "id": "7805aa5e",
   "metadata": {},
   "source": [
    "#### The 'compound' column has a mean of 0.451 and a median of 0.440, which tells us that the overall sentiment of the comment thread is positive. The standard deviation is 0.320, which shows that the sentiments are varied."
   ]
  },
  {
   "cell_type": "markdown",
   "id": "7ab39ecb",
   "metadata": {},
   "source": [
    "### Sentiment Analysis of all the reviews that mention ambience"
   ]
  },
  {
   "cell_type": "code",
   "execution_count": 31,
   "id": "9f29f167",
   "metadata": {},
   "outputs": [],
   "source": [
    "df = pd.read_csv('stemmed_reviews_ambience.csv')"
   ]
  },
  {
   "cell_type": "code",
   "execution_count": 32,
   "id": "12c775c9",
   "metadata": {},
   "outputs": [
    {
     "data": {
      "text/html": [
       "<div>\n",
       "<style scoped>\n",
       "    .dataframe tbody tr th:only-of-type {\n",
       "        vertical-align: middle;\n",
       "    }\n",
       "\n",
       "    .dataframe tbody tr th {\n",
       "        vertical-align: top;\n",
       "    }\n",
       "\n",
       "    .dataframe thead th {\n",
       "        text-align: right;\n",
       "    }\n",
       "</style>\n",
       "<table border=\"1\" class=\"dataframe\">\n",
       "  <thead>\n",
       "    <tr style=\"text-align: right;\">\n",
       "      <th></th>\n",
       "      <th>stemmed_review</th>\n",
       "      <th>neg</th>\n",
       "      <th>neu</th>\n",
       "      <th>pos</th>\n",
       "      <th>compound</th>\n",
       "    </tr>\n",
       "  </thead>\n",
       "  <tbody>\n",
       "    <tr>\n",
       "      <th>0</th>\n",
       "      <td>person favorit whole citi hyderabad  visit pla...</td>\n",
       "      <td>0.068</td>\n",
       "      <td>0.845</td>\n",
       "      <td>0.087</td>\n",
       "      <td>0.2278</td>\n",
       "    </tr>\n",
       "    <tr>\n",
       "      <th>1</th>\n",
       "      <td>food good ambienc worth</td>\n",
       "      <td>0.000</td>\n",
       "      <td>0.294</td>\n",
       "      <td>0.706</td>\n",
       "      <td>0.5859</td>\n",
       "    </tr>\n",
       "    <tr>\n",
       "      <th>2</th>\n",
       "      <td>awesom food varieti great tast  ambienc great ...</td>\n",
       "      <td>0.000</td>\n",
       "      <td>0.395</td>\n",
       "      <td>0.605</td>\n",
       "      <td>0.8934</td>\n",
       "    </tr>\n",
       "    <tr>\n",
       "      <th>3</th>\n",
       "      <td>wonder delicaci madhurai  love food made amaz ...</td>\n",
       "      <td>0.038</td>\n",
       "      <td>0.706</td>\n",
       "      <td>0.256</td>\n",
       "      <td>0.8834</td>\n",
       "    </tr>\n",
       "    <tr>\n",
       "      <th>4</th>\n",
       "      <td>nice littl place  lack ambienc  make great fri...</td>\n",
       "      <td>0.120</td>\n",
       "      <td>0.366</td>\n",
       "      <td>0.513</td>\n",
       "      <td>0.8176</td>\n",
       "    </tr>\n",
       "  </tbody>\n",
       "</table>\n",
       "</div>"
      ],
      "text/plain": [
       "                                      stemmed_review    neg    neu    pos  \\\n",
       "0  person favorit whole citi hyderabad  visit pla...  0.068  0.845  0.087   \n",
       "1                           food good ambienc worth   0.000  0.294  0.706   \n",
       "2  awesom food varieti great tast  ambienc great ...  0.000  0.395  0.605   \n",
       "3  wonder delicaci madhurai  love food made amaz ...  0.038  0.706  0.256   \n",
       "4  nice littl place  lack ambienc  make great fri...  0.120  0.366  0.513   \n",
       "\n",
       "   compound  \n",
       "0    0.2278  \n",
       "1    0.5859  \n",
       "2    0.8934  \n",
       "3    0.8834  \n",
       "4    0.8176  "
      ]
     },
     "execution_count": 32,
     "metadata": {},
     "output_type": "execute_result"
    }
   ],
   "source": [
    "from nltk.sentiment.vader import SentimentIntensityAnalyzer\n",
    "\n",
    "sia = SentimentIntensityAnalyzer()\n",
    "\n",
    "df.loc[:, 'sentiment_scores'] = df['stemmed_review'].apply(sia.polarity_scores)\n",
    "\n",
    "df = pd.concat([df.drop(['sentiment_scores'], axis=1), df['sentiment_scores'].apply(pd.Series)], axis=1)\n",
    "df.head()"
   ]
  },
  {
   "cell_type": "code",
   "execution_count": 33,
   "id": "0bec1e32",
   "metadata": {},
   "outputs": [
    {
     "data": {
      "image/png": "[encoded data removed]",
      "text/plain": [
       "<Figure size 432x288 with 1 Axes>"
      ]
     },
     "metadata": {},
     "output_type": "display_data"
    }
   ],
   "source": [
    "import matplotlib.pyplot as plt\n",
    "\n",
    "positive = len(df[df['compound'] > 0])\n",
    "negative = len(df[df['compound'] < 0])\n",
    "neutral = len(df[df['compound'] == 0])\n",
    "\n",
    "plt.pie([positive, negative, neutral], labels=['Positive', 'Negative', 'Neutral'], \n",
    "        autopct='%1.1f%%', colors=['#7dfa9e', '#fa7d7d', '#e8e6e6'])\n",
    "plt.title('Sentiment Analysis Results')\n",
    "plt.show()"
   ]
  },
  {
   "cell_type": "markdown",
   "id": "2c43efe8",
   "metadata": {},
   "source": [
    "#### The overall sentiment is extremely positive, with 0 neutral or negative reviews"
   ]
  },
  {
   "cell_type": "code",
   "execution_count": 34,
   "id": "5e33c767",
   "metadata": {},
   "outputs": [
    {
     "data": {
      "text/html": [
       "<div>\n",
       "<style scoped>\n",
       "    .dataframe tbody tr th:only-of-type {\n",
       "        vertical-align: middle;\n",
       "    }\n",
       "\n",
       "    .dataframe tbody tr th {\n",
       "        vertical-align: top;\n",
       "    }\n",
       "\n",
       "    .dataframe thead th {\n",
       "        text-align: right;\n",
       "    }\n",
       "</style>\n",
       "<table border=\"1\" class=\"dataframe\">\n",
       "  <thead>\n",
       "    <tr style=\"text-align: right;\">\n",
       "      <th></th>\n",
       "      <th>neg</th>\n",
       "      <th>neu</th>\n",
       "      <th>pos</th>\n",
       "      <th>compound</th>\n",
       "    </tr>\n",
       "  </thead>\n",
       "  <tbody>\n",
       "    <tr>\n",
       "      <th>count</th>\n",
       "      <td>6.000000</td>\n",
       "      <td>6.000000</td>\n",
       "      <td>6.000000</td>\n",
       "      <td>6.000000</td>\n",
       "    </tr>\n",
       "    <tr>\n",
       "      <th>mean</th>\n",
       "      <td>0.055333</td>\n",
       "      <td>0.562000</td>\n",
       "      <td>0.382500</td>\n",
       "      <td>0.589350</td>\n",
       "    </tr>\n",
       "    <tr>\n",
       "      <th>std</th>\n",
       "      <td>0.051640</td>\n",
       "      <td>0.236884</td>\n",
       "      <td>0.260492</td>\n",
       "      <td>0.338994</td>\n",
       "    </tr>\n",
       "    <tr>\n",
       "      <th>min</th>\n",
       "      <td>0.000000</td>\n",
       "      <td>0.294000</td>\n",
       "      <td>0.087000</td>\n",
       "      <td>0.128000</td>\n",
       "    </tr>\n",
       "    <tr>\n",
       "      <th>25%</th>\n",
       "      <td>0.009500</td>\n",
       "      <td>0.373250</td>\n",
       "      <td>0.160000</td>\n",
       "      <td>0.317325</td>\n",
       "    </tr>\n",
       "    <tr>\n",
       "      <th>50%</th>\n",
       "      <td>0.053000</td>\n",
       "      <td>0.550500</td>\n",
       "      <td>0.384500</td>\n",
       "      <td>0.701750</td>\n",
       "    </tr>\n",
       "    <tr>\n",
       "      <th>75%</th>\n",
       "      <td>0.096500</td>\n",
       "      <td>0.751000</td>\n",
       "      <td>0.582000</td>\n",
       "      <td>0.866950</td>\n",
       "    </tr>\n",
       "    <tr>\n",
       "      <th>max</th>\n",
       "      <td>0.120000</td>\n",
       "      <td>0.845000</td>\n",
       "      <td>0.706000</td>\n",
       "      <td>0.893400</td>\n",
       "    </tr>\n",
       "  </tbody>\n",
       "</table>\n",
       "</div>"
      ],
      "text/plain": [
       "            neg       neu       pos  compound\n",
       "count  6.000000  6.000000  6.000000  6.000000\n",
       "mean   0.055333  0.562000  0.382500  0.589350\n",
       "std    0.051640  0.236884  0.260492  0.338994\n",
       "min    0.000000  0.294000  0.087000  0.128000\n",
       "25%    0.009500  0.373250  0.160000  0.317325\n",
       "50%    0.053000  0.550500  0.384500  0.701750\n",
       "75%    0.096500  0.751000  0.582000  0.866950\n",
       "max    0.120000  0.845000  0.706000  0.893400"
      ]
     },
     "execution_count": 34,
     "metadata": {},
     "output_type": "execute_result"
    }
   ],
   "source": [
    "df.describe()"
   ]
  },
  {
   "cell_type": "markdown",
   "id": "97ab22d2",
   "metadata": {},
   "source": [
    "#### The mean of the 'neg' column is 0.056, the median is 0.053, and the standard deviation is 0.052. The negative sentiment is very low, with low variation, but higher than the negative sentiment for the food and taste reviews.\n",
    "#### The mean of the 'neu' column is 0.562, the median is 0.550, and the standard deviation is 0.237. There is a high sentiment of neutrality, with moderate deviation.\n",
    "#### The mean and median of the 'pos' column are 0.382 and 0.384 respectively, and the standard deviation is 0.260. The reviews lean quite a bit to the positive side, and there is moderate variation in the positive sentiment."
   ]
  },
  {
   "cell_type": "markdown",
   "id": "d00abbe1",
   "metadata": {},
   "source": [
    "#### The 'compound' column has a mean of 0.589 and a median of 0.702, which tells us that the overall sentiment of the comment thread is very positive. The standard deviation is 0.589, which shows that the sentiments are very varied."
   ]
  },
  {
   "cell_type": "markdown",
   "id": "fde59ee9",
   "metadata": {},
   "source": [
    "#### The reviews:"
   ]
  },
  {
   "cell_type": "markdown",
   "id": "4b08ad70",
   "metadata": {},
   "source": [
    "- My personal favorite in the whole city of Hyderabad. Visit this place thrice a week, at the least. Not a great ambience to dine-in, but a fabulous eatery that serves Chicken Biryani (made of jeeraga samba rice, should typically be called pulao), Chicken Sukka Biryani, Mutton Sukka Biryani, Mutton Dilli (hardened blood), Kalakki, Ceylon paratha, chicken khari dosa etc. The Best!!\n",
    "- Food is good but ambience is not worth.\n",
    "- Awesome food varieties with great taste. Ambience is not that great, so would recommend to takeaway.\n",
    "- \"This is such a wonderful Delicacy from Madhurai, loved having such a food made of amazing flavorful masala, Samba Mutton Biryani, Chukka Mutton, Sankara fish fry, Nannari we're the best!!\n",
    "Missed kotthparata, it's on my list yet...\n",
    "Happy to have such a yummm Madhurai delicacy in Hyderabad kondapur!\n",
    "(Not recommended for people who only go by restaurant ambience)\"\n",
    "- Nice little place. What it lacks in ambience,  it makes up in great friendly staff and good food.\n",
    "- Excellent place for veg and non veg items. Don't expect hi fi ambience its usual mess sort of hotel. But taste is awesome, typical madurai style.\n"
   ]
  },
  {
   "cell_type": "markdown",
   "id": "a0323fae",
   "metadata": {},
   "source": [
    "#### There are only six reviews that mentioned ambience. The reviews say that the ambience is not great, but that did not mar the customers' satisfaction, as the restaurant made up for it in other areas. That made the overall review positive, but the ambience is something that could be improved."
   ]
  },
  {
   "cell_type": "markdown",
   "id": "17d4d55e",
   "metadata": {},
   "source": [
    "### Sentiment Analysis of all the reviews that mention hygiene"
   ]
  },
  {
   "cell_type": "code",
   "execution_count": 35,
   "id": "cbf191eb",
   "metadata": {},
   "outputs": [],
   "source": [
    "df = pd.read_csv('stemmed_reviews_hygiene.csv')"
   ]
  },
  {
   "cell_type": "code",
   "execution_count": 36,
   "id": "6e90a86b",
   "metadata": {},
   "outputs": [
    {
     "data": {
      "text/html": [
       "<div>\n",
       "<style scoped>\n",
       "    .dataframe tbody tr th:only-of-type {\n",
       "        vertical-align: middle;\n",
       "    }\n",
       "\n",
       "    .dataframe tbody tr th {\n",
       "        vertical-align: top;\n",
       "    }\n",
       "\n",
       "    .dataframe thead th {\n",
       "        text-align: right;\n",
       "    }\n",
       "</style>\n",
       "<table border=\"1\" class=\"dataframe\">\n",
       "  <thead>\n",
       "    <tr style=\"text-align: right;\">\n",
       "      <th></th>\n",
       "      <th>stemmed_review</th>\n",
       "      <th>neg</th>\n",
       "      <th>neu</th>\n",
       "      <th>pos</th>\n",
       "      <th>compound</th>\n",
       "    </tr>\n",
       "  </thead>\n",
       "  <tbody>\n",
       "    <tr>\n",
       "      <th>0</th>\n",
       "      <td>got food poison food  place use amaz  year   r...</td>\n",
       "      <td>0.171</td>\n",
       "      <td>0.688</td>\n",
       "      <td>0.141</td>\n",
       "      <td>-0.3818</td>\n",
       "    </tr>\n",
       "    <tr>\n",
       "      <th>1</th>\n",
       "      <td>nice place tamil nadu dish tast authent combin...</td>\n",
       "      <td>0.000</td>\n",
       "      <td>0.674</td>\n",
       "      <td>0.326</td>\n",
       "      <td>0.7003</td>\n",
       "    </tr>\n",
       "    <tr>\n",
       "      <th>2</th>\n",
       "      <td>nice food experi  realli enjoy breakfast  vari...</td>\n",
       "      <td>0.000</td>\n",
       "      <td>0.677</td>\n",
       "      <td>0.323</td>\n",
       "      <td>0.9729</td>\n",
       "    </tr>\n",
       "    <tr>\n",
       "      <th>3</th>\n",
       "      <td>samba chicken biryani chicken sukha biryani  t...</td>\n",
       "      <td>0.000</td>\n",
       "      <td>0.803</td>\n",
       "      <td>0.197</td>\n",
       "      <td>0.4019</td>\n",
       "    </tr>\n",
       "    <tr>\n",
       "      <th>4</th>\n",
       "      <td>good food unhygien locat</td>\n",
       "      <td>0.000</td>\n",
       "      <td>0.508</td>\n",
       "      <td>0.492</td>\n",
       "      <td>0.4404</td>\n",
       "    </tr>\n",
       "  </tbody>\n",
       "</table>\n",
       "</div>"
      ],
      "text/plain": [
       "                                      stemmed_review    neg    neu    pos  \\\n",
       "0  got food poison food  place use amaz  year   r...  0.171  0.688  0.141   \n",
       "1  nice place tamil nadu dish tast authent combin...  0.000  0.674  0.326   \n",
       "2  nice food experi  realli enjoy breakfast  vari...  0.000  0.677  0.323   \n",
       "3  samba chicken biryani chicken sukha biryani  t...  0.000  0.803  0.197   \n",
       "4                           good food unhygien locat  0.000  0.508  0.492   \n",
       "\n",
       "   compound  \n",
       "0   -0.3818  \n",
       "1    0.7003  \n",
       "2    0.9729  \n",
       "3    0.4019  \n",
       "4    0.4404  "
      ]
     },
     "execution_count": 36,
     "metadata": {},
     "output_type": "execute_result"
    }
   ],
   "source": [
    "from nltk.sentiment.vader import SentimentIntensityAnalyzer\n",
    "\n",
    "sia = SentimentIntensityAnalyzer()\n",
    "\n",
    "df.loc[:, 'sentiment_scores'] = df['stemmed_review'].apply(sia.polarity_scores)\n",
    "\n",
    "df = pd.concat([df.drop(['sentiment_scores'], axis=1), df['sentiment_scores'].apply(pd.Series)], axis=1)\n",
    "df.head()"
   ]
  },
  {
   "cell_type": "code",
   "execution_count": 37,
   "id": "89b5d108",
   "metadata": {},
   "outputs": [
    {
     "data": {
      "image/png": "[encoded data removed]",
      "text/plain": [
       "<Figure size 432x288 with 1 Axes>"
      ]
     },
     "metadata": {},
     "output_type": "display_data"
    }
   ],
   "source": [
    "import matplotlib.pyplot as plt\n",
    "\n",
    "positive = len(df[df['compound'] > 0])\n",
    "negative = len(df[df['compound'] < 0])\n",
    "neutral = len(df[df['compound'] == 0])\n",
    "\n",
    "plt.pie([positive, negative, neutral], labels=['Positive', 'Negative', 'Neutral'], \n",
    "        autopct='%1.1f%%', colors=['#7dfa9e', '#fa7d7d', '#e8e6e6'])\n",
    "plt.title('Sentiment Analysis Results')\n",
    "plt.show()"
   ]
  },
  {
   "cell_type": "markdown",
   "id": "8b5a593f",
   "metadata": {},
   "source": [
    "#### Only half the reviews mentioning hygiene have a positive sentiment."
   ]
  },
  {
   "cell_type": "code",
   "execution_count": 38,
   "id": "0c336f3e",
   "metadata": {},
   "outputs": [
    {
     "data": {
      "text/html": [
       "<div>\n",
       "<style scoped>\n",
       "    .dataframe tbody tr th:only-of-type {\n",
       "        vertical-align: middle;\n",
       "    }\n",
       "\n",
       "    .dataframe tbody tr th {\n",
       "        vertical-align: top;\n",
       "    }\n",
       "\n",
       "    .dataframe thead th {\n",
       "        text-align: right;\n",
       "    }\n",
       "</style>\n",
       "<table border=\"1\" class=\"dataframe\">\n",
       "  <thead>\n",
       "    <tr style=\"text-align: right;\">\n",
       "      <th></th>\n",
       "      <th>neg</th>\n",
       "      <th>neu</th>\n",
       "      <th>pos</th>\n",
       "      <th>compound</th>\n",
       "    </tr>\n",
       "  </thead>\n",
       "  <tbody>\n",
       "    <tr>\n",
       "      <th>count</th>\n",
       "      <td>8.000000</td>\n",
       "      <td>8.000000</td>\n",
       "      <td>8.000000</td>\n",
       "      <td>8.000000</td>\n",
       "    </tr>\n",
       "    <tr>\n",
       "      <th>mean</th>\n",
       "      <td>0.021375</td>\n",
       "      <td>0.793750</td>\n",
       "      <td>0.184875</td>\n",
       "      <td>0.266713</td>\n",
       "    </tr>\n",
       "    <tr>\n",
       "      <th>std</th>\n",
       "      <td>0.060458</td>\n",
       "      <td>0.188418</td>\n",
       "      <td>0.184363</td>\n",
       "      <td>0.442253</td>\n",
       "    </tr>\n",
       "    <tr>\n",
       "      <th>min</th>\n",
       "      <td>0.000000</td>\n",
       "      <td>0.508000</td>\n",
       "      <td>0.000000</td>\n",
       "      <td>-0.381800</td>\n",
       "    </tr>\n",
       "    <tr>\n",
       "      <th>25%</th>\n",
       "      <td>0.000000</td>\n",
       "      <td>0.676250</td>\n",
       "      <td>0.000000</td>\n",
       "      <td>0.000000</td>\n",
       "    </tr>\n",
       "    <tr>\n",
       "      <th>50%</th>\n",
       "      <td>0.000000</td>\n",
       "      <td>0.745500</td>\n",
       "      <td>0.169000</td>\n",
       "      <td>0.200950</td>\n",
       "    </tr>\n",
       "    <tr>\n",
       "      <th>75%</th>\n",
       "      <td>0.000000</td>\n",
       "      <td>1.000000</td>\n",
       "      <td>0.323750</td>\n",
       "      <td>0.505375</td>\n",
       "    </tr>\n",
       "    <tr>\n",
       "      <th>max</th>\n",
       "      <td>0.171000</td>\n",
       "      <td>1.000000</td>\n",
       "      <td>0.492000</td>\n",
       "      <td>0.972900</td>\n",
       "    </tr>\n",
       "  </tbody>\n",
       "</table>\n",
       "</div>"
      ],
      "text/plain": [
       "            neg       neu       pos  compound\n",
       "count  8.000000  8.000000  8.000000  8.000000\n",
       "mean   0.021375  0.793750  0.184875  0.266713\n",
       "std    0.060458  0.188418  0.184363  0.442253\n",
       "min    0.000000  0.508000  0.000000 -0.381800\n",
       "25%    0.000000  0.676250  0.000000  0.000000\n",
       "50%    0.000000  0.745500  0.169000  0.200950\n",
       "75%    0.000000  1.000000  0.323750  0.505375\n",
       "max    0.171000  1.000000  0.492000  0.972900"
      ]
     },
     "execution_count": 38,
     "metadata": {},
     "output_type": "execute_result"
    }
   ],
   "source": [
    "df.describe()"
   ]
  },
  {
   "cell_type": "markdown",
   "id": "f0e7916a",
   "metadata": {},
   "source": [
    "#### The mean of the 'neg' column is 0.021, the median is 0.000, and the standard deviation is 0.060. The negative sentiment is very low, with low variation.\n",
    "#### The mean of the 'neu' column is 0.794, the median is 0.746, and the standard deviation is 0.188. There is a high sentiment of neutrality, with low-moderate deviation.\n",
    "#### The mean and median of the 'pos' column are 0.185 and 0.169 respectively, and the standard deviation is 0.184. The reviews lean  to the positive side, and there is moderate variation in the positive sentiment."
   ]
  },
  {
   "cell_type": "markdown",
   "id": "9be4a7e3",
   "metadata": {},
   "source": [
    "#### The 'compound' column has a mean of 0.266 and a median of 0.201, which tells us that the overall sentiment of the comment thread is slightly positive. The standard deviation is 0.267, which shows that the sentiments are a little varied."
   ]
  },
  {
   "cell_type": "markdown",
   "id": "28e27549",
   "metadata": {},
   "source": [
    "### Sentiment Analysis of all the reviews that mention service"
   ]
  },
  {
   "cell_type": "code",
   "execution_count": 39,
   "id": "1ee5f95c",
   "metadata": {},
   "outputs": [],
   "source": [
    "df = pd.read_csv('stemmed_reviews_service.csv')"
   ]
  },
  {
   "cell_type": "code",
   "execution_count": 40,
   "id": "3aaec436",
   "metadata": {},
   "outputs": [
    {
     "data": {
      "text/html": [
       "<div>\n",
       "<style scoped>\n",
       "    .dataframe tbody tr th:only-of-type {\n",
       "        vertical-align: middle;\n",
       "    }\n",
       "\n",
       "    .dataframe tbody tr th {\n",
       "        vertical-align: top;\n",
       "    }\n",
       "\n",
       "    .dataframe thead th {\n",
       "        text-align: right;\n",
       "    }\n",
       "</style>\n",
       "<table border=\"1\" class=\"dataframe\">\n",
       "  <thead>\n",
       "    <tr style=\"text-align: right;\">\n",
       "      <th></th>\n",
       "      <th>stemmed_review</th>\n",
       "      <th>neg</th>\n",
       "      <th>neu</th>\n",
       "      <th>pos</th>\n",
       "      <th>compound</th>\n",
       "    </tr>\n",
       "  </thead>\n",
       "  <tbody>\n",
       "    <tr>\n",
       "      <th>0</th>\n",
       "      <td>food good  atmospher like roadsid shop madurai...</td>\n",
       "      <td>0.000</td>\n",
       "      <td>0.444</td>\n",
       "      <td>0.556</td>\n",
       "      <td>0.9100</td>\n",
       "    </tr>\n",
       "    <tr>\n",
       "      <th>1</th>\n",
       "      <td>good authent tamil food avail  place easi loca...</td>\n",
       "      <td>0.000</td>\n",
       "      <td>0.632</td>\n",
       "      <td>0.368</td>\n",
       "      <td>0.9153</td>\n",
       "    </tr>\n",
       "    <tr>\n",
       "      <th>2</th>\n",
       "      <td>nice place tamil nadu dish tast authent combin...</td>\n",
       "      <td>0.000</td>\n",
       "      <td>0.674</td>\n",
       "      <td>0.326</td>\n",
       "      <td>0.7003</td>\n",
       "    </tr>\n",
       "    <tr>\n",
       "      <th>3</th>\n",
       "      <td>food serv plastic coat plate cup  one star  se...</td>\n",
       "      <td>0.206</td>\n",
       "      <td>0.794</td>\n",
       "      <td>0.000</td>\n",
       "      <td>-0.6597</td>\n",
       "    </tr>\n",
       "    <tr>\n",
       "      <th>4</th>\n",
       "      <td>typic madurai  tamilnadu type food  love authe...</td>\n",
       "      <td>0.000</td>\n",
       "      <td>0.656</td>\n",
       "      <td>0.344</td>\n",
       "      <td>0.6369</td>\n",
       "    </tr>\n",
       "  </tbody>\n",
       "</table>\n",
       "</div>"
      ],
      "text/plain": [
       "                                      stemmed_review    neg    neu    pos  \\\n",
       "0  food good  atmospher like roadsid shop madurai...  0.000  0.444  0.556   \n",
       "1  good authent tamil food avail  place easi loca...  0.000  0.632  0.368   \n",
       "2  nice place tamil nadu dish tast authent combin...  0.000  0.674  0.326   \n",
       "3  food serv plastic coat plate cup  one star  se...  0.206  0.794  0.000   \n",
       "4  typic madurai  tamilnadu type food  love authe...  0.000  0.656  0.344   \n",
       "\n",
       "   compound  \n",
       "0    0.9100  \n",
       "1    0.9153  \n",
       "2    0.7003  \n",
       "3   -0.6597  \n",
       "4    0.6369  "
      ]
     },
     "execution_count": 40,
     "metadata": {},
     "output_type": "execute_result"
    }
   ],
   "source": [
    "from nltk.sentiment.vader import SentimentIntensityAnalyzer\n",
    "\n",
    "sia = SentimentIntensityAnalyzer()\n",
    "\n",
    "df.loc[:, 'sentiment_scores'] = df['stemmed_review'].apply(sia.polarity_scores)\n",
    "\n",
    "df = pd.concat([df.drop(['sentiment_scores'], axis=1), df['sentiment_scores'].apply(pd.Series)], axis=1)\n",
    "df.head()"
   ]
  },
  {
   "cell_type": "code",
   "execution_count": 41,
   "id": "53249855",
   "metadata": {},
   "outputs": [
    {
     "data": {
      "image/png": "[encoded data removed]",
      "text/plain": [
       "<Figure size 432x288 with 1 Axes>"
      ]
     },
     "metadata": {},
     "output_type": "display_data"
    }
   ],
   "source": [
    "import matplotlib.pyplot as plt\n",
    "\n",
    "positive = len(df[df['compound'] > 0])\n",
    "negative = len(df[df['compound'] < 0])\n",
    "neutral = len(df[df['compound'] == 0])\n",
    "\n",
    "plt.pie([positive, negative, neutral], labels=['Positive', 'Negative', 'Neutral'], \n",
    "        autopct='%1.1f%%', colors=['#7dfa9e', '#fa7d7d', '#e8e6e6'])\n",
    "plt.title('Sentiment Analysis Results')\n",
    "plt.show()"
   ]
  },
  {
   "cell_type": "markdown",
   "id": "76757dff",
   "metadata": {},
   "source": [
    "#### The overall sentiment is positive."
   ]
  },
  {
   "cell_type": "code",
   "execution_count": 42,
   "id": "a506c3e3",
   "metadata": {},
   "outputs": [
    {
     "data": {
      "text/html": [
       "<div>\n",
       "<style scoped>\n",
       "    .dataframe tbody tr th:only-of-type {\n",
       "        vertical-align: middle;\n",
       "    }\n",
       "\n",
       "    .dataframe tbody tr th {\n",
       "        vertical-align: top;\n",
       "    }\n",
       "\n",
       "    .dataframe thead th {\n",
       "        text-align: right;\n",
       "    }\n",
       "</style>\n",
       "<table border=\"1\" class=\"dataframe\">\n",
       "  <thead>\n",
       "    <tr style=\"text-align: right;\">\n",
       "      <th></th>\n",
       "      <th>neg</th>\n",
       "      <th>neu</th>\n",
       "      <th>pos</th>\n",
       "      <th>compound</th>\n",
       "    </tr>\n",
       "  </thead>\n",
       "  <tbody>\n",
       "    <tr>\n",
       "      <th>count</th>\n",
       "      <td>28.000000</td>\n",
       "      <td>28.000000</td>\n",
       "      <td>28.000000</td>\n",
       "      <td>28.000000</td>\n",
       "    </tr>\n",
       "    <tr>\n",
       "      <th>mean</th>\n",
       "      <td>0.026036</td>\n",
       "      <td>0.711000</td>\n",
       "      <td>0.263000</td>\n",
       "      <td>0.524386</td>\n",
       "    </tr>\n",
       "    <tr>\n",
       "      <th>std</th>\n",
       "      <td>0.069983</td>\n",
       "      <td>0.204855</td>\n",
       "      <td>0.202652</td>\n",
       "      <td>0.423284</td>\n",
       "    </tr>\n",
       "    <tr>\n",
       "      <th>min</th>\n",
       "      <td>0.000000</td>\n",
       "      <td>0.341000</td>\n",
       "      <td>0.000000</td>\n",
       "      <td>-0.659700</td>\n",
       "    </tr>\n",
       "    <tr>\n",
       "      <th>25%</th>\n",
       "      <td>0.000000</td>\n",
       "      <td>0.587750</td>\n",
       "      <td>0.120750</td>\n",
       "      <td>0.170850</td>\n",
       "    </tr>\n",
       "    <tr>\n",
       "      <th>50%</th>\n",
       "      <td>0.000000</td>\n",
       "      <td>0.747000</td>\n",
       "      <td>0.253000</td>\n",
       "      <td>0.700300</td>\n",
       "    </tr>\n",
       "    <tr>\n",
       "      <th>75%</th>\n",
       "      <td>0.000000</td>\n",
       "      <td>0.830000</td>\n",
       "      <td>0.374250</td>\n",
       "      <td>0.863325</td>\n",
       "    </tr>\n",
       "    <tr>\n",
       "      <th>max</th>\n",
       "      <td>0.310000</td>\n",
       "      <td>1.000000</td>\n",
       "      <td>0.659000</td>\n",
       "      <td>0.964300</td>\n",
       "    </tr>\n",
       "  </tbody>\n",
       "</table>\n",
       "</div>"
      ],
      "text/plain": [
       "             neg        neu        pos   compound\n",
       "count  28.000000  28.000000  28.000000  28.000000\n",
       "mean    0.026036   0.711000   0.263000   0.524386\n",
       "std     0.069983   0.204855   0.202652   0.423284\n",
       "min     0.000000   0.341000   0.000000  -0.659700\n",
       "25%     0.000000   0.587750   0.120750   0.170850\n",
       "50%     0.000000   0.747000   0.253000   0.700300\n",
       "75%     0.000000   0.830000   0.374250   0.863325\n",
       "max     0.310000   1.000000   0.659000   0.964300"
      ]
     },
     "execution_count": 42,
     "metadata": {},
     "output_type": "execute_result"
    }
   ],
   "source": [
    "df.describe()"
   ]
  },
  {
   "cell_type": "markdown",
   "id": "980094e1",
   "metadata": {},
   "source": [
    "#### The mean of the 'neg' column is 0.026, the median is 0.000, and the standard deviation is 0.070. The negative sentiment is very low, with very low variation.\n",
    "#### The mean of the 'neu' column is 0.711, the median is 0.747, and the standard deviation is 0.205. There is a very high sentiment of neutrality, with low-moderate deviation.\n",
    "#### The mean and median of the 'pos' column are 0.263 and 0.253 respectively, and the standard deviation is 0.203. The reviews lean  to the positive side, and there is low-moderate variation in the positive sentiment."
   ]
  },
  {
   "cell_type": "markdown",
   "id": "cf18cdaf",
   "metadata": {},
   "source": [
    "#### The 'compound' column has a mean of 0.524 and a median of 0.700, which tells us that the overall sentiment of the comment thread is very positive. The standard deviation is 0.423, which shows that the positive sentiments are quite varied."
   ]
  },
  {
   "cell_type": "markdown",
   "id": "0c5775e0",
   "metadata": {},
   "source": [
    "# Conclusions"
   ]
  },
  {
   "cell_type": "markdown",
   "id": "779ec065",
   "metadata": {},
   "source": [
    "#### The reviews had a high sentiment of neutrality, a moderate sentiment of positivity, and a very low sentiment of negativity. \n",
    "#### This made the overall sentiment positive for most of the reviews."
   ]
  },
  {
   "cell_type": "markdown",
   "id": "e439041e",
   "metadata": {},
   "source": [
    "#### 72% of the reviews were positive, and only 3.4% were negative. "
   ]
  },
  {
   "cell_type": "markdown",
   "id": "dc0884a3",
   "metadata": {},
   "source": [
    "#### 79.3% of the reviews that mentioned food were positive, and only 1.8% were negative. "
   ]
  },
  {
   "cell_type": "markdown",
   "id": "c42eec29",
   "metadata": {},
   "source": [
    "#### 73.9% of the reviews that mentioned taste were positive, and only 0.6% were negative. "
   ]
  },
  {
   "cell_type": "markdown",
   "id": "a77f95d6",
   "metadata": {},
   "source": [
    "#### 100% of the reviews that mentioned ambience were positive, but looking at the individual comments leads us to the conclusion that the ambience by itself was not good, and the positive reviews were only due to other aspects.\n",
    "### The ambience is something that could be improved."
   ]
  },
  {
   "cell_type": "markdown",
   "id": "3f128b2b",
   "metadata": {},
   "source": [
    "#### Only 50% of the reviews that mentioned hygiene were positive, with 12.5% of the reviews being negative.\n",
    "### The hygiene is something that could be improved."
   ]
  },
  {
   "cell_type": "markdown",
   "id": "46ef617f",
   "metadata": {},
   "source": [
    "#### 75% of the reviews that mentioned service were positive, and 7.1% were negative. \n",
    "### The negative percentage is slightly high, and service is something that can be improved."
   ]
  },
  {
   "cell_type": "code",
   "execution_count": null,
   "id": "f4f50c3b",
   "metadata": {},
   "outputs": [],
   "source": []
  }
 ],
 "metadata": {
  "kernelspec": {
   "display_name": "Python 3 (ipykernel)",
   "language": "python",
   "name": "python3"
  },
  "language_info": {
   "codemirror_mode": {
    "name": "ipython",
    "version": 3
   },
   "file_extension": ".py",
   "mimetype": "text/x-python",
   "name": "python",
   "nbconvert_exporter": "python",
   "pygments_lexer": "ipython3",
   "version": "3.9.7"
  }
 },
 "nbformat": 4,
 "nbformat_minor": 5
}
